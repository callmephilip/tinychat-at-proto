{
  "metadata": {
    "kernelspec": {
      "display_name": "deno",
      "language": "typescript",
      "name": "deno"
    }
  },
  "cells": [
    {
      "cell_type": "markdown",
      "source": [
        "# This is your app\n",
        "\n",
        "Let's get cranking"
      ],
      "metadata": {}
    },
    {
      "cell_type": "code",
      "source": [
        "//| export\n",
        "\n",
        "export const app = () => {\n",
        "  console.log(\"Hello, World!\");\n",
        "};"
      ],
      "outputs": [],
      "metadata": {},
      "execution_count": null
    }
  ],
  "nbformat": 4,
  "nbformat_minor": 2
}