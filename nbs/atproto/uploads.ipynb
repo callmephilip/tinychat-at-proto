{
  "metadata": {
    "kernelspec": {
      "display_name": "deno",
      "language": "typescript",
      "name": "deno"
    }
  },
  "cells": [
    {
      "cell_type": "markdown",
      "source": [
        "# Atproto uploads using blobs\n",
        "\n",
        "https://github.com/nperez0111/bookhive/blob/main/src/utils/uploadImageBlob.ts"
      ],
      "metadata": {}
    },
    {
      "cell_type": "code",
      "source": [
        "// blobs need to be attached to smth like a post to work properly\n",
        "// see https://github.com/bluesky-social/atproto/discussions/1840#discussioncomment-7527939\n",
        "\n",
        "// import { TinychatAgent } from \"tinychat/agent.ts\";\n",
        "\n",
        "// const tca = await TinychatAgent.create();\n",
        "\n",
        "// const imageURL = \"https://callmephilip.com/midwit/images/1.jpeg\";\n",
        "// const sourceRes = await fetch(imageURL);\n",
        "// const buffer = new Uint8Array(await sourceRes.arrayBuffer());\n",
        "\n",
        "// const upload = await tca.atProto.repo.uploadBlob(buffer, { encoding: \"image/jpeg\"});\n",
        "\n",
        "// // TODO: image dimensions\n",
        "\n",
        "// await tca.atProto.repo.createRecord({\n",
        "//   repo: tca.agent.assertDid,\n",
        "//   collection: \"app.bsky.feed.post\",\n",
        "//   record: {\n",
        "//     $type: \"app.bsky.feed.post\",\n",
        "//     text: \"Hello blobs!\",\n",
        "//     createdAt: new Date().toISOString(),\n",
        "//     embed: {\n",
        "//       $type: \"app.bsky.embed.images\",\n",
        "//       images: [\n",
        "//         {\n",
        "//           alt: \"brief alt text description of the second image\",\n",
        "//           image: {\n",
        "//             $type: \"blob\",\n",
        "//             ref: {\n",
        "//               $link: upload.data.blob.ref.toString(),\n",
        "//             },\n",
        "//             mimeType: upload.data.blob.mimeType,\n",
        "//             size: upload.data.blob.size,\n",
        "//           },\n",
        "//           aspectRatio: {\n",
        "//             width: 935,\n",
        "//             height: 733,\n",
        "//           },\n",
        "//         },\n",
        "//       ],\n",
        "//     },\n",
        "//   },\n",
        "// });\n"
      ],
      "outputs": [],
      "metadata": {},
      "execution_count": null
    }
  ],
  "nbformat": 4,
  "nbformat_minor": 2
}