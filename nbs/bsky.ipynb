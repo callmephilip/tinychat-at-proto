{
  "metadata": {
    "kernelspec": {
      "display_name": "deno",
      "language": "typescript",
      "name": "deno"
    }
  },
  "cells": [
    {
      "cell_type": "markdown",
      "source": [
        "# Bsky integration"
      ],
      "metadata": {}
    },
    {
      "cell_type": "code",
      "source": [
        "//| export\n",
        "\n",
        "import { Agent } from \"@atproto/api\";\n",
        "import { z } from \"zod\";\n",
        "\n",
        "const profileSchema = z.object({\n",
        "  did: z.string(),\n",
        "  handle: z.string(),\n",
        "  displayName: z.string(),\n",
        "  avatar: z.string(),\n",
        "  labels: z.array(z.string()),\n",
        "  createdAt: z.string(),\n",
        "  description: z.string().optional(),\n",
        "  banner: z.string().optional(),\n",
        "  followersCount: z.number(),\n",
        "  followsCount: z.number(),\n",
        "  postsCount: z.number(),\n",
        "});\n",
        "\n",
        "export type Profile = z.infer<typeof profileSchema>;\n",
        "\n",
        "export const getProfile = async (did: string): Promise<Profile> => {\n",
        "  const { data } = await (new Agent(\"https://public.api.bsky.app/xrpc\"))\n",
        "    .getProfile({ actor: did });\n",
        "  return profileSchema.parse(data);\n",
        "};"
      ],
      "outputs": [
        {
          "data": {
            "text/plain": [
              "{\n",
              "  did: \u001b[32m\"did:plc:ubdeopbbkbgedccgbum7dhsh\"\u001b[39m,\n",
              "  handle: \u001b[32m\"callmephilip.com\"\u001b[39m,\n",
              "  displayName: \u001b[32m\"Philip Nuzhnyi\"\u001b[39m,\n",
              "  avatar: \u001b[32m\"https://cdn.bsky.app/img/avatar/plain/did:plc:ubdeopbbkbgedccgbum7dhsh/bafkreieucw6agsbrrjrmjubywrrzqqpyhdbnd4trlj63qvzwm4ildgtmsq@jpeg\"\u001b[39m,\n",
              "  labels: [],\n",
              "  createdAt: \u001b[32m\"2024-11-29T15:33:26.546Z\"\u001b[39m,\n",
              "  description: \u001b[32m\"🧜‍♂️ Surftware engineer.\\n\"\u001b[39m +\n",
              "    \u001b[32m\"\\n\"\u001b[39m +\n",
              "    \u001b[32m\"CODE: https://github.com/callmephilip\\n\"\u001b[39m +\n",
              "    \u001b[32m\"MD: https://callmephilip.com/\"\u001b[39m,\n",
              "  banner: \u001b[32m\"https://cdn.bsky.app/img/banner/plain/did:plc:ubdeopbbkbgedccgbum7dhsh/bafkreibw6qn7obhzn2fxb76v7o5tltwpdgq45wsypdzkp4ujrlwjdprlc4@jpeg\"\u001b[39m,\n",
              "  followersCount: \u001b[33m85\u001b[39m,\n",
              "  followsCount: \u001b[33m116\u001b[39m,\n",
              "  postsCount: \u001b[33m166\u001b[39m\n",
              "}"
            ]
          },
          "metadata": {},
          "output_type": "execute_result",
          "execution_count": null
        }
      ],
      "metadata": {},
      "execution_count": null
    },
    {
      "cell_type": "code",
      "source": [
        "// await getProfile(\"did:plc:ubdeopbbkbgedccgbum7dhsh\");\n",
        "\n",
        "// CDN for the image\n",
        "// https://github.com/notjuliet/pdsls/blob/c86372402cc5cb78c72277938adc2912b8100a85/src/components/json.tsx#L114-L129"
      ],
      "outputs": [],
      "metadata": {},
      "execution_count": null
    }
  ],
  "nbformat": 4,
  "nbformat_minor": 2
}