{
  "metadata": {
    "kernelspec": {
      "display_name": "deno",
      "language": "typescript",
      "name": "deno"
    }
  },
  "cells": [
    {
      "cell_type": "markdown",
      "source": [
        "# Bsky integration"
      ],
      "metadata": {}
    },
    {
      "cell_type": "code",
      "source": [
        "import { Agent } from \"@atproto/api\";\n",
        "\n",
        "const agent = new Agent(\"https://public.api.bsky.app/xrpc\");\n",
        "await agent.getProfile({ actor: \"did:plc:ubdeopbbkbgedccgbum7dhsh\" });\n",
        "\n",
        "// CDN for the image\n",
        "// https://github.com/notjuliet/pdsls/blob/c86372402cc5cb78c72277938adc2912b8100a85/src/components/json.tsx#L114-L129"
      ],
      "outputs": [
        {
          "data": {
            "text/plain": [
              "XRPCResponse {\n",
              "  data: {\n",
              "    did: \u001b[32m\"did:plc:ubdeopbbkbgedccgbum7dhsh\"\u001b[39m,\n",
              "    handle: \u001b[32m\"callmephilip.com\"\u001b[39m,\n",
              "    displayName: \u001b[32m\"Philip Nuzhnyi\"\u001b[39m,\n",
              "    avatar: \u001b[32m\"https://cdn.bsky.app/img/avatar/plain/did:plc:ubdeopbbkbgedccgbum7dhsh/bafkreieucw6agsbrrjrmjubywrrzqqpyhdbnd4trlj63qvzwm4ildgtmsq@jpeg\"\u001b[39m,\n",
              "    associated: { lists: \u001b[33m1\u001b[39m, feedgens: \u001b[33m0\u001b[39m, starterPacks: \u001b[33m0\u001b[39m, labeler: \u001b[33mfalse\u001b[39m },\n",
              "    labels: [],\n",
              "    createdAt: \u001b[32m\"2024-11-29T15:33:26.546Z\"\u001b[39m,\n",
              "    description: \u001b[32m\"🧜‍♂️ Surftware engineer.\\n\"\u001b[39m +\n",
              "      \u001b[32m\"\\n\"\u001b[39m +\n",
              "      \u001b[32m\"CODE: https://github.com/callmephilip\\n\"\u001b[39m +\n",
              "      \u001b[32m\"MD: https://callmephilip.com/\"\u001b[39m,\n",
              "    indexedAt: \u001b[32m\"2024-12-29T17:12:41.342Z\"\u001b[39m,\n",
              "    banner: \u001b[32m\"https://cdn.bsky.app/img/banner/plain/did:plc:ubdeopbbkbgedccgbum7dhsh/bafkreibw6qn7obhzn2fxb76v7o5tltwpdgq45wsypdzkp4ujrlwjdprlc4@jpeg\"\u001b[39m,\n",
              "    followersCount: \u001b[33m85\u001b[39m,\n",
              "    followsCount: \u001b[33m116\u001b[39m,\n",
              "    postsCount: \u001b[33m166\u001b[39m\n",
              "  },\n",
              "  headers: {\n",
              "    \u001b[32m\"access-control-allow-origin\"\u001b[39m: \u001b[32m\"*\"\u001b[39m,\n",
              "    \u001b[32m\"atproto-content-labelers\"\u001b[39m: \u001b[32m\"did:plc:ar7c4by46qjdydhdevvrndac;redact\"\u001b[39m,\n",
              "    \u001b[32m\"cache-control\"\u001b[39m: \u001b[32m\"public, max-age=30\"\u001b[39m,\n",
              "    \u001b[32m\"cdn-cache\"\u001b[39m: \u001b[32m\"MISS\"\u001b[39m,\n",
              "    \u001b[32m\"cdn-cachedat\"\u001b[39m: \u001b[32m\"01/14/2025 23:58:17\"\u001b[39m,\n",
              "    \u001b[32m\"cdn-edgestorageid\"\u001b[39m: \u001b[32m\"1005\"\u001b[39m,\n",
              "    \u001b[32m\"cdn-proxyver\"\u001b[39m: \u001b[32m\"1.06\"\u001b[39m,\n",
              "    \u001b[32m\"cdn-pullzone\"\u001b[39m: \u001b[32m\"1816608\"\u001b[39m,\n",
              "    \u001b[32m\"cdn-requestcountrycode\"\u001b[39m: \u001b[32m\"PT\"\u001b[39m,\n",
              "    \u001b[32m\"cdn-requestid\"\u001b[39m: \u001b[32m\"707a5ff1c599676a35b5223158dae93a\"\u001b[39m,\n",
              "    \u001b[32m\"cdn-requestpullcode\"\u001b[39m: \u001b[32m\"200\"\u001b[39m,\n",
              "    \u001b[32m\"cdn-requestpullsuccess\"\u001b[39m: \u001b[32m\"True\"\u001b[39m,\n",
              "    \u001b[32m\"cdn-requesttime\"\u001b[39m: \u001b[32m\"0\"\u001b[39m,\n",
              "    \u001b[32m\"cdn-status\"\u001b[39m: \u001b[32m\"200\"\u001b[39m,\n",
              "    \u001b[32m\"cdn-uid\"\u001b[39m: \u001b[32m\"57ad37ea-0c96-40cb-9722-d1abe3b3ecd9\"\u001b[39m,\n",
              "    \u001b[32m\"content-type\"\u001b[39m: \u001b[32m\"application/json; charset=utf-8\"\u001b[39m,\n",
              "    date: \u001b[32m\"Tue, 14 Jan 2025 23:58:17 GMT\"\u001b[39m,\n",
              "    server: \u001b[32m\"BunnyCDN-PT1-1005\"\u001b[39m,\n",
              "    \u001b[32m\"strict-transport-security\"\u001b[39m: \u001b[32m\"max-age=63072000\"\u001b[39m,\n",
              "    vary: \u001b[32m\"Accept-Encoding\"\u001b[39m,\n",
              "    \u001b[32m\"x-powered-by\"\u001b[39m: \u001b[32m\"Express\"\u001b[39m\n",
              "  },\n",
              "  success: \u001b[33mtrue\u001b[39m\n",
              "}"
            ]
          },
          "metadata": {},
          "output_type": "execute_result",
          "execution_count": null
        }
      ],
      "metadata": {},
      "execution_count": null
    },
    {
      "cell_type": "code",
      "source": [],
      "outputs": [],
      "metadata": {},
      "execution_count": null
    }
  ],
  "nbformat": 4,
  "nbformat_minor": 2
}