{
  "cells": [
    {
      "cell_type": "markdown",
      "metadata": {},
      "source": [
        "# Bsky integration"
      ]
    },
    {
      "cell_type": "code",
      "execution_count": null,
      "metadata": {},
      "outputs": [],
      "source": [
        "//| export\n",
        "\n",
        "import { Agent } from \"@atproto/api\";\n",
        "import { z } from \"zod\";\n",
        "\n",
        "const profileSchema = z.object({\n",
        "  did: z.string(),\n",
        "  handle: z.string(),\n",
        "  displayName: z.string().optional(),\n",
        "  avatar: z.string().optional(),\n",
        "  labels: z.array(z.string()),\n",
        "  createdAt: z.string(),\n",
        "  description: z.string().optional(),\n",
        "  banner: z.string().optional(),\n",
        "  followersCount: z.number(),\n",
        "  followsCount: z.number(),\n",
        "  postsCount: z.number(),\n",
        "});\n",
        "\n",
        "export type Profile = z.infer<typeof profileSchema>;\n",
        "\n",
        "export const getProfile = async (did: string): Promise<Profile> => {\n",
        "  const { data } = await (new Agent(\"https://public.api.bsky.app/xrpc\"))\n",
        "    .getProfile({ actor: did });\n",
        "  return profileSchema.parse(data);\n",
        "};"
      ]
    },
    {
      "cell_type": "code",
      "execution_count": null,
      "metadata": {},
      "outputs": [],
      "source": [
        "// await getProfile(\"did:plc:ubdeopbbkbgedccgbum7dhsh\");\n",
        "\n",
        "// CDN for the image\n",
        "// https://github.com/notjuliet/pdsls/blob/c86372402cc5cb78c72277938adc2912b8100a85/src/components/json.tsx#L114-L129"
      ]
    },
    {
      "cell_type": "markdown",
      "metadata": {},
      "source": [
        "## Richtext processing\n",
        "\n",
        "Check out https://github.com/mary-ext/skeetdeck/tree/aa0cb74c0ace489b79d2671c4b9e740ec21623c7/app/api/richtext"
      ]
    }
  ],
  "metadata": {
    "kernelspec": {
      "display_name": "deno",
      "language": "typescript",
      "name": "deno"
    }
  },
  "nbformat": 4,
  "nbformat_minor": 2
}
