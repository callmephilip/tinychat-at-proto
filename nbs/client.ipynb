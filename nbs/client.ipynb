{
  "metadata": {
    "kernelspec": {
      "display_name": "deno",
      "language": "typescript",
      "name": "deno"
    }
  },
  "cells": [
    {
      "cell_type": "markdown",
      "source": [
        "# Tinychat client\n",
        "\n",
        "This is the main tinychat web interface people interact with:\n",
        "\n",
        "- auth using atproto OAuth\n",
        "- manage session to provide authenticated agent to talk to atproto"
      ],
      "metadata": {}
    },
    {
      "cell_type": "markdown",
      "source": [
        "App setup"
      ],
      "metadata": {}
    },
    {
      "cell_type": "code",
      "source": [
        "//| export\n",
        "\n",
        "import { Hono } from \"hono\";\n",
        "import { HTTPException } from \"hono/http-exception\";\n",
        "import { logger } from \"hono/logger\";\n",
        "import { getIronSession, IronSession } from \"iron-session\";\n",
        "import { createMiddleware } from \"hono/factory\";\n",
        "import { TinychatOAuthClient } from \"tinychat/oauth.ts\";\n",
        "import { TinychatAgent } from \"tinychat/agent.ts\";\n",
        "import type { Database } from \"tinychat/db.ts\"\n",
        "import { ActorView } from \"tinychat/api/types/chat/tinychat/actor/defs.ts\";\n",
        "\n",
        "export type Session = {\n",
        "  did: string | undefined;\n",
        "  // testing purposes\n",
        "  t: string | undefined;\n",
        "};\n",
        "\n",
        "export type AppContext = {\n",
        "  session: IronSession<Session> | undefined;\n",
        "  oauthClient: TinychatOAuthClient | undefined;\n",
        "  agent: () => Promise<TinychatAgent | undefined>;\n",
        "  user: () => Promise<ActorView | undefined>;\n",
        "  db?: Database | undefined;\n",
        "};\n",
        "\n",
        "declare module \"hono\" {\n",
        "  interface ContextVariableMap {\n",
        "    ctx: AppContext;\n",
        "  }\n",
        "}\n",
        "\n",
        "export type HonoServer = Hono<{\n",
        "  Variables: {\n",
        "    ctx: AppContext;\n",
        "  };\n",
        "}>;\n",
        "\n",
        "export const app = new Hono();\n",
        "\n",
        "app.use(\"*\", logger());\n",
        "\n",
        "\"\";"
      ],
      "outputs": [
        {
          "data": {
            "text/plain": [
              "\u001b[32m\"\"\u001b[39m"
            ]
          },
          "metadata": {},
          "output_type": "execute_result",
          "execution_count": null
        }
      ],
      "metadata": {},
      "execution_count": null
    },
    {
      "cell_type": "markdown",
      "source": [
        "## Context + Session management\n",
        "\n",
        "Connect [iron-router](https://github.com/vvo/iron-session) for cookie based\n",
        "session management. Using Nick's\n",
        "[bookhive](https://github.com/nperez0111/bookhive/blob/main/src/index.ts) for\n",
        "inspiration."
      ],
      "metadata": {}
    },
    {
      "cell_type": "code",
      "source": [
        "//| export\n",
        "\n",
        "app.use(\n",
        "  \"*\",\n",
        "  createMiddleware(async (c, next) => {\n",
        "    if (!Deno.env.get(\"SESSION_COOKIE_KEY\")) {\n",
        "      throw new Error(\"SESSION_COOKIE_KEY is not set\");\n",
        "    }\n",
        "\n",
        "    const session = await getIronSession<Session>(c.req.raw, c.res, {\n",
        "      cookieName: \"sid\",\n",
        "      password: Deno.env.get(\"SESSION_COOKIE_KEY\")!,\n",
        "      cookieOptions: {\n",
        "        httpOnly: Deno.env.get(\"SESSION_COOKIE_ALLOW_INSECURE\") ? false : true,\n",
        "        secure: true, // set this to false in local (non-HTTPS) development\n",
        "        sameSite: \"lax\", // https://developer.mozilla.org/en-US/docs/Web/HTTP/Headers/Set-Cookie/SameSite#lax\n",
        "        path: \"/\",\n",
        "      },\n",
        "    });\n",
        "\n",
        "    const oauthClient = new TinychatOAuthClient();\n",
        "    const getAgent = async () => await TinychatAgent.create(oauthClient, session.did);\n",
        "\n",
        "    c.set(\"ctx\", {\n",
        "      session,\n",
        "      oauthClient,\n",
        "      agent: () => getAgent(),\n",
        "      user: async () => {\n",
        "        try {\n",
        "          const a = await getAgent();\n",
        "        const d = a && (await a.chat.tinychat.actor.getProfile({ actor: a.agent.assertDid }))\n",
        "        return d && d.data;\n",
        "        } catch(e) {\n",
        "          console.error(\"get user failed with\", e);\n",
        "          return undefined;\n",
        "        }\n",
        "        \n",
        "      }\n",
        "    });\n",
        "\n",
        "    await next();\n",
        "  }),\n",
        ");\n",
        "\n",
        "\"\";"
      ],
      "outputs": [
        {
          "data": {
            "text/plain": [
              "\u001b[32m\"\"\u001b[39m"
            ]
          },
          "metadata": {},
          "output_type": "execute_result",
          "execution_count": null
        }
      ],
      "metadata": {},
      "execution_count": null
    },
    {
      "cell_type": "markdown",
      "source": [
        "## Landing page"
      ],
      "metadata": {}
    },
    {
      "cell_type": "code",
      "source": [
        "//| export\n",
        "\n",
        "app.get(\"/\", (c) => c.redirect(\"https://github.com/callmephilip/tinychat\"));\n",
        "\n",
        "\"\";"
      ],
      "outputs": [
        {
          "data": {
            "text/plain": [
              "\u001b[32m\"\"\u001b[39m"
            ]
          },
          "metadata": {},
          "output_type": "execute_result",
          "execution_count": null
        }
      ],
      "metadata": {},
      "execution_count": null
    },
    {
      "cell_type": "code",
      "source": [
        "//| export\n",
        "\n",
        "app.get(\"/health\", (c) => c.json({ status: \"ok\", t: c.var.ctx.session!.t }));\n",
        "app.get(\"/set-session-t\", async (c) => {\n",
        "  if (!c.var.ctx.session) {\n",
        "    throw new HTTPException(500, { message: \"Session not found\" });\n",
        "  }\n",
        "\n",
        "  c.var.ctx.session!.t = \"foo\";\n",
        "  await c.var.ctx.session!.save();\n",
        "  return c.json({ status: \"ok\", t: c.var.ctx.session!.t });\n",
        "});\n",
        "\n",
        "\"\";"
      ],
      "outputs": [
        {
          "data": {
            "text/plain": [
              "\u001b[32m\"\"\u001b[39m"
            ]
          },
          "metadata": {},
          "output_type": "execute_result",
          "execution_count": null
        }
      ],
      "metadata": {},
      "execution_count": null
    },
    {
      "cell_type": "markdown",
      "source": [
        "## Connect authentication\n",
        "\n",
        "Auth is done using Atproto OAuth client"
      ],
      "metadata": {}
    },
    {
      "cell_type": "code",
      "source": [
        "//| export\n",
        "\n",
        "import { LoginForm } from \"@tinychat/ui/login.tsx\";\n",
        "\n",
        "app.get(\n",
        "  \"/client-metadata.json\",\n",
        "  (c) => c.json(c.var.ctx.oauthClient?.clientMetadata),\n",
        ");\n",
        "\n",
        "app.get(\"/oauth/callback\", async (c) => {\n",
        "  const { session, oauthClient } = c.var.ctx;\n",
        "\n",
        "  if (!oauthClient) {\n",
        "    throw new HTTPException(500, { message: \"OAuth client not found\" });\n",
        "  }\n",
        "\n",
        "  const params = new URLSearchParams(c.req.url.split(\"?\")[1]);\n",
        "  const { session: oauthSession } = await oauthClient.callback(\n",
        "    params,\n",
        "  );\n",
        "  session!.did = oauthSession.did;\n",
        "  await session?.save();\n",
        "  return c.redirect(\"/\");\n",
        "});\n",
        "\n",
        "app.get(\"/login\", (c) => c.html(LoginForm()));\n",
        "\n",
        "app.post(\"/login\", async (c) => {\n",
        "  try {\n",
        "    const body = await c.req.parseBody();\n",
        "    // @ts-ignore it's a string, yo\n",
        "    const handle: string | undefined = body?.handle;\n",
        "\n",
        "    if (!handle) {\n",
        "      throw new HTTPException(400, { message: \"Missing handle\" });\n",
        "    }\n",
        "\n",
        "    if (!c.var.ctx.oauthClient) {\n",
        "      throw new HTTPException(500, { message: \"OAuth client not found\" });\n",
        "    }\n",
        "\n",
        "    const url = await c.var.ctx.oauthClient.authorize(handle, {\n",
        "      scope: \"atproto transition:generic\",\n",
        "    });\n",
        "\n",
        "    return c.redirect(url.toString());\n",
        "  } catch (e) {\n",
        "    console.error(e);\n",
        "    return c.json({ error: \"Internal server error\" }, 500);\n",
        "  }\n",
        "});\n",
        "\n",
        "\"\";"
      ],
      "outputs": [
        {
          "data": {
            "text/plain": [
              "\u001b[32m\"\"\u001b[39m"
            ]
          },
          "metadata": {},
          "output_type": "execute_result",
          "execution_count": null
        }
      ],
      "metadata": {},
      "execution_count": null
    },
    {
      "cell_type": "markdown",
      "source": [
        "# Chat\n",
        "\n",
        "Main chat area"
      ],
      "metadata": {}
    },
    {
      "cell_type": "code",
      "source": [
        "//| export\n",
        "\n",
        "import { ChatPage } from \"@tinychat/ui/pages/chat.tsx\";\n",
        "\n",
        "app.get(\"/chat\", async (c) =>\n",
        "  c.html(\n",
        "    ChatPage({\n",
        "      user: await c.var.ctx.user(),\n",
        "    })\n",
        "  )\n",
        ");\n",
        "\n",
        "\"\";"
      ],
      "outputs": [
        {
          "data": {
            "text/plain": [
              "\u001b[32m\"\"\u001b[39m"
            ]
          },
          "metadata": {},
          "output_type": "execute_result",
          "execution_count": null
        }
      ],
      "metadata": {},
      "execution_count": null
    },
    {
      "cell_type": "markdown",
      "source": [
        "## Test app instance\n",
        "\n",
        "It seems like cookies need to be managed manually:\n",
        "`https://www.answeroverflow.com/m/1285290790863769643`\n",
        "\n",
        "TODO: proper types for test client - see https://hono.dev/docs/guides/rpc#client"
      ],
      "metadata": {}
    },
    {
      "cell_type": "code",
      "source": [
        "import { testClient } from \"hono/testing\";\n",
        "import { assert, assertEquals } from \"asserts\";\n",
        "\n",
        "Deno.test(\"/\", async () => {\n",
        "  // @ts-ignore cannot figure out type of test client\n",
        "  const res = await testClient(app).$get();\n",
        "  assertEquals(await res.status, 302);\n",
        "});\n",
        "\n",
        "Deno.test(\"/health\", async () => {\n",
        "  // @ts-ignore cannot figure out type of test client\n",
        "  const res = await testClient(app).health.$get();\n",
        "  assertEquals(await res.json(), { status: \"ok\" });\n",
        "});\n",
        "\n",
        "Deno.test(\"/set-session-t\", async () => {\n",
        "  // @ts-ignore cannot figure out type of test client\n",
        "  const r1 = await testClient(app)[\"set-session-t\"].$get();\n",
        "  assertEquals(await r1.json(), { status: \"ok\", t: \"foo\" });\n",
        "  assert(r1.headers.get(\"set-cookie\"));\n",
        "  // @ts-ignore cannot figure out type of test client\n",
        "  const r2 = await testClient(app)[\"health\"].$get(\n",
        "    {},\n",
        "    {\n",
        "      headers: {\n",
        "        Cookie: r1.headers.get(\"set-cookie\"),\n",
        "      },\n",
        "    },\n",
        "  );\n",
        "  assertEquals(await r2.json(), { status: \"ok\", t: \"foo\" });\n",
        "});\n",
        "\n",
        "// Deno.test(\"chat\", async () => {\n",
        "//   // @ts-ignore cannot figure out type of test client\n",
        "//   const res = await testClient(app).chat.$get();\n",
        "//   assertEquals(await res.status, 200, \"chat page should be accessible\");\n",
        "// });"
      ],
      "outputs": [],
      "metadata": {},
      "execution_count": null
    },
    {
      "cell_type": "code",
      "source": [],
      "outputs": [],
      "metadata": {},
      "execution_count": null
    }
  ],
  "nbformat": 4,
  "nbformat_minor": 2
}