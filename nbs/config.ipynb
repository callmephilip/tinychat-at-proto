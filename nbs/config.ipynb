{
  "metadata": {
    "kernelspec": {
      "display_name": "deno",
      "language": "typescript",
      "name": "deno"
    }
  },
  "cells": [
    {
      "cell_type": "markdown",
      "source": [
        "# Tinychat config"
      ],
      "metadata": {}
    },
    {
      "cell_type": "code",
      "source": [
        "// | export\n",
        "\n",
        "import { ActorView } from \"tinychat/api/types/chat/tinychat/actor/defs.ts\";\n",
        "\n",
        "export const getNotificationsWsUrl = (params?: {\n",
        "  appViewUrl?: string | undefined;\n",
        "  user?: ActorView | undefined;\n",
        "}) => {\n",
        "  const { appViewUrl, user } = Object.assign({\n",
        "    appViewUrl: Deno.env.get(\"APPVIEW_URL\")!,\n",
        "  }, params);\n",
        "  const base = `${appViewUrl.replace(/\\/$/ig, \"\")}`.replace(\"http\", \"ws\");\n",
        "  return `${base}/ws` + (user ? `?did=${encodeURIComponent(user.did)}` : \"\");\n",
        "};"
      ],
      "outputs": [],
      "metadata": {},
      "execution_count": null
    },
    {
      "cell_type": "code",
      "source": [
        "import { assertEquals } from \"asserts\";\n",
        "\n",
        "Deno.test(\"getNotificationsWsUrl\", () => {\n",
        "  assertEquals(getNotificationsWsUrl(), \"ws://localhost:8001/ws\");\n",
        "  assertEquals(\n",
        "    getNotificationsWsUrl({ appViewUrl: \"https://appview.tinychat.chat\" }),\n",
        "    \"wss://appview.tinychat.chat/ws\",\n",
        "  );\n",
        "  assertEquals(\n",
        "    // @ts-ignore yolo\n",
        "    getNotificationsWsUrl({ user: { did: \"did:hello\" } }),\n",
        "    \"ws://localhost:8001/ws?did=did%3Ahello\",\n",
        "  );\n",
        "});"
      ],
      "outputs": [],
      "metadata": {},
      "execution_count": null
    }
  ],
  "nbformat": 4,
  "nbformat_minor": 2
}