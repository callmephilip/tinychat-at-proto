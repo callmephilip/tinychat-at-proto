{
  "metadata": {
    "kernelspec": {
      "display_name": "deno",
      "language": "typescript",
      "name": "deno"
    }
  },
  "cells": [
    {
      "cell_type": "markdown",
      "source": [
        "# Tinychat config"
      ],
      "metadata": {}
    },
    {
      "cell_type": "code",
      "source": [
        "// | export\n",
        "\n",
        "export const getNotificationsWsUrl = (\n",
        "  appViewUrl: string = Deno.env.get(\"APPVIEW_URL\")!,\n",
        ") => {\n",
        "  const base = `${appViewUrl.replace(/\\/$/ig, \"\")}`.replace(\"http\", \"ws\");\n",
        "  return `${base}/ws`;\n",
        "};"
      ],
      "outputs": [],
      "metadata": {},
      "execution_count": null
    },
    {
      "cell_type": "code",
      "source": [
        "import { assert } from \"asserts\";\n",
        "\n",
        "Deno.test(\"getNotificationsWsUrl\", () => {\n",
        "  assert(getNotificationsWsUrl() === \"ws://localhost:8001/ws\");\n",
        "  assert(\n",
        "    getNotificationsWsUrl(\"https://appview.tinychat.chat\") ===\n",
        "      \"wss://appview.tinychat.chat/ws\",\n",
        "  );\n",
        "});"
      ],
      "outputs": [],
      "metadata": {},
      "execution_count": null
    }
  ],
  "nbformat": 4,
  "nbformat_minor": 2
}