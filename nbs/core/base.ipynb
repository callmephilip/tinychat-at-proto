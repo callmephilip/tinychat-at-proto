{
  "metadata": {},
  "cells": [
    {
      "cell_type": "markdown",
      "source": [
        "## Base types and helpers"
      ],
      "metadata": {}
    },
    {
      "cell_type": "code",
      "source": [
        "//| export\n",
        "\n",
        "import { Record as Message } from \"tinychat/api/types/chat/tinychat/core/message.ts\";\n",
        "import { MessageView as BaseMessageView } from \"tinychat/api/types/chat/tinychat/core/defs.ts\";\n",
        "\n",
        "export {\n",
        "  validateMessageView,\n",
        "} from \"tinychat/api/types/chat/tinychat/core/defs.ts\";\n",
        "\n",
        "export type MessageView = BaseMessageView & {\n",
        "  record: Message;\n",
        "};"
      ],
      "outputs": [],
      "metadata": {},
      "execution_count": null
    }
  ],
  "nbformat": 4,
  "nbformat_minor": 2
}