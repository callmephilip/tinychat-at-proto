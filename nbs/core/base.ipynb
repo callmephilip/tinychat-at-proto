{
  "metadata": {
    "kernelspec": {
      "display_name": "deno",
      "language": "typescript",
      "name": "deno"
    }
  },
  "cells": [
    {
      "cell_type": "markdown",
      "source": [
        "## Base types and helpers"
      ],
      "metadata": {}
    },
    {
      "cell_type": "code",
      "source": [
        "//| export\n",
        "\n",
        "import { ValidationResult } from \"@atproto/lexicon\";\n",
        "import { Record as Message } from \"tinychat/api/types/chat/tinychat/core/message.ts\";\n",
        "import {\n",
        "  MessageView as BaseMessageView,\n",
        "  validateMessageView as baseValidateMessageView,\n",
        "} from \"tinychat/api/types/chat/tinychat/core/defs.ts\";\n",
        "import { validateRecord } from \"tinychat/api/types/chat/tinychat/core/message.ts\";\n",
        "\n",
        "export type MessageView = BaseMessageView & {\n",
        "  record: Message;\n",
        "};\n",
        "\n",
        "export const validateMessageView = (view: unknown): ValidationResult => {\n",
        "  const r = baseValidateMessageView(view);\n",
        "  if (!r.success) return r;\n",
        "  // validate underlying message record inside record\n",
        "  // @ts-ignore yolo\n",
        "  const rr = validateRecord(view.record);\n",
        "  if (!rr.success) return rr;\n",
        "  return r;\n",
        "};"
      ],
      "outputs": [],
      "metadata": {},
      "execution_count": null
    }
  ],
  "nbformat": 4,
  "nbformat_minor": 2
}