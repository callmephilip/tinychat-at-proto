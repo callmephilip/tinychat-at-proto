{
  "metadata": {
    "kernelspec": {
      "display_name": "deno",
      "language": "typescript",
      "name": "deno"
    }
  },
  "cells": [
    {
      "cell_type": "markdown",
      "source": [
        "# Chat server"
      ],
      "metadata": {}
    },
    {
      "cell_type": "code",
      "source": [
        "//| export\n",
        "\n",
        "import type { Database } from \"tinychat/db.ts\";\n",
        "import { NewServerRecord } from \"tinychat/firehose.ts\";\n",
        "import { seedMessages } from \"tinychat/core/messaging.ts\";\n",
        "\n",
        "export class Servers {\n",
        "  constructor(protected db: Database) {}\n",
        "\n",
        "  createServer(server: NewServerRecord) {\n",
        "    const createServer = this.db.prepare(`\n",
        "        INSERT INTO servers (uri, name, creator) VALUES (\n",
        "          :uri, :name, :creator\n",
        "        )`);\n",
        "    const createMembership = this.db.prepare(\n",
        "      `INSERT INTO server_memberships (user, server) VALUES (\n",
        "          :creator, :server\n",
        "        ) ON CONFLICT(user, server) DO NOTHING`,\n",
        "    );\n",
        "    const createChannel = this.db.prepare(\n",
        "      `INSERT INTO channels (id, name, server) VALUES (:id, :name, :server) ON CONFLICT(id, server) DO NOTHING`,\n",
        "    );\n",
        "\n",
        "    this.db.transaction(() => {\n",
        "      createServer.run({\n",
        "        uri: server.uri,\n",
        "        name: server.commit.record.name,\n",
        "        creator: server.did,\n",
        "      });\n",
        "      createMembership.run({ creator: server.did, server: server.uri });\n",
        "      for (const channel of server.commit.record.channels) {\n",
        "        createChannel.run({\n",
        "          id: channel.id,\n",
        "          name: channel.name,\n",
        "          server: server.uri,\n",
        "        });\n",
        "      }\n",
        "    })();\n",
        "\n",
        "    // seed messages if needed\n",
        "    if (Deno.env.get(\"SEED_MESSAGES_AFTER_SERVER_CREATION\")) {\n",
        "      seedMessages({ db: this.db, server: server.uri });\n",
        "    }\n",
        "  }\n",
        "}"
      ],
      "outputs": [
        {
          "data": {
            "text/plain": [
              "[Module: null prototype] {\n",
              "  Messaging: \u001b[36m[class Messaging]\u001b[39m,\n",
              "  seedMessages: \u001b[36m[Function: seedMessages]\u001b[39m\n",
              "}"
            ]
          },
          "metadata": {},
          "output_type": "execute_result",
          "execution_count": null
        }
      ],
      "metadata": {},
      "execution_count": null
    }
  ],
  "nbformat": 4,
  "nbformat_minor": 2
}