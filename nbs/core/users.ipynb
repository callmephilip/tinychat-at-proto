{
  "metadata": {
    "kernelspec": {
      "display_name": "deno",
      "language": "typescript",
      "name": "deno"
    }
  },
  "cells": [
    {
      "cell_type": "markdown",
      "source": [
        "# Users\n",
        "\n",
        "I hate the word \"users\". However, calling them \"people\" would be a form of\n",
        "discrimination against the machines that could be using this product as well.\n",
        "And we don't want that."
      ],
      "metadata": {}
    },
    {
      "cell_type": "code",
      "source": [
        "//| export\n",
        "\n",
        "import { getProfile } from \"tinychat/bsky.ts\";\n",
        "import { Database } from \"tinychat/db.ts\";\n",
        "\n",
        "export const syncUser = async ({ did, db }: { did: string; db: Database }) => {\n",
        "  const profile = await getProfile(did);\n",
        "  db.prepare(\n",
        "    `\n",
        "        INSERT INTO users (did, handle, display_name, avatar, description) VALUES (\n",
        "          :did, :handle, :displayName, :avatar, :description\n",
        "        ) ON CONFLICT(did) DO UPDATE SET\n",
        "          handle = COALESCE(:handle, handle),\n",
        "          display_name = COALESCE(:displayName, display_name),\n",
        "          avatar = COALESCE(:avatar, avatar),\n",
        "          description = COALESCE(:description, description\n",
        "        )`,\n",
        "  ).run({\n",
        "    did,\n",
        "    handle: profile.handle,\n",
        "    displayName: profile.displayName || null,\n",
        "    avatar: profile.avatar || null,\n",
        "    description: profile.description || null,\n",
        "  });\n",
        "};"
      ],
      "outputs": [],
      "metadata": {},
      "execution_count": null
    },
    {
      "cell_type": "markdown",
      "source": [
        "# Test helpers"
      ],
      "metadata": {}
    },
    {
      "cell_type": "code",
      "source": [
        "//| export\n",
        "\n",
        "import { Database } from \"tinychat/db.ts\";\n",
        "\n",
        "export const createTestUser = (\n",
        "  { db, user }: { db: Database; user: { did: string; handle: string } },\n",
        ") => {\n",
        "  // this test user does not have some common fields like display name and avatar not set intentionally\n",
        "  // to mimic bare bones setup - handy for testing record validations with missing fields etc.\n",
        "  db.prepare(\n",
        "    \"INSERT INTO users (did, handle) VALUES (:did, :handle)\",\n",
        "  ).run(user);\n",
        "};\n",
        "\n",
        "export const createDefaultTestUser = ({ db }: { db: Database }) => {\n",
        "  // this test user does not have some common fields like display name and avatar not set intentionally\n",
        "  // to mimic bare bones setup - handy for testing record validations with missing fields etc.\n",
        "  createTestUser({\n",
        "    db,\n",
        "    user: {\n",
        "      did: \"did:plc:ubdeopbbkbgedccgbum7dhsh\",\n",
        "      handle: \"callmephilip.com\",\n",
        "    },\n",
        "  });\n",
        "};"
      ],
      "outputs": [],
      "metadata": {},
      "execution_count": null
    }
  ],
  "nbformat": 4,
  "nbformat_minor": 2
}