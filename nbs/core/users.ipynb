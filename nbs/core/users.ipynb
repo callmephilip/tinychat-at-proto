{
  "metadata": {
    "kernelspec": {
      "display_name": "deno",
      "language": "typescript",
      "name": "deno"
    }
  },
  "cells": [
    {
      "cell_type": "markdown",
      "source": [
        "# Users\n",
        "\n",
        "I hate the word \"users\". However, calling them \"people\" would be a form of\n",
        "discrimination against the machines that could be using this product as well.\n",
        "And we don't want that."
      ],
      "metadata": {}
    },
    {
      "cell_type": "markdown",
      "source": [
        "# Test helpers"
      ],
      "metadata": {}
    },
    {
      "cell_type": "code",
      "source": [
        "//| export\n",
        "\n",
        "import { Database } from \"tinychat/db.ts\";\n",
        "\n",
        "export const createTestUser = ({ db, user }: { db: Database, user: { did: string, handle: string } }) => {\n",
        "  // this test user does not have some common fields like display name and avatar not set intentionally\n",
        "  // to mimic bare bones setup - handy for testing record validations with missing fields etc.\n",
        "  db.prepare(\n",
        "    \"INSERT INTO users (did, handle) VALUES (:did, :handle)\",\n",
        "  ).run(user);\n",
        "};\n",
        "\n",
        "export const createDefaultTestUser = ({ db }: { db: Database }) => {\n",
        "  // this test user does not have some common fields like display name and avatar not set intentionally\n",
        "  // to mimic bare bones setup - handy for testing record validations with missing fields etc.\n",
        "  createTestUser({db, user: {\n",
        "    did: \"did:plc:ubdeopbbkbgedccgbum7dhsh\",\n",
        "    handle: \"callmephilip.com\",\n",
        "  }});\n",
        "};"
      ],
      "outputs": [],
      "metadata": {},
      "execution_count": null
    }
  ],
  "nbformat": 4,
  "nbformat_minor": 2
}