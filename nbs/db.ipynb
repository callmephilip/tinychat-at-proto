{
  "metadata": {
    "kernelspec": {
      "display_name": "deno",
      "language": "typescript",
      "name": "deno"
    }
  },
  "cells": [
    {
      "cell_type": "markdown",
      "source": [
        "# Database"
      ],
      "metadata": {}
    },
    {
      "cell_type": "code",
      "source": [
        "//| export\n",
        "\n",
        "import { Database } from \"@db/sqlite\";\n"
      ],
      "outputs": [],
      "metadata": {},
      "execution_count": null
    },
    {
      "cell_type": "markdown",
      "source": [
        "## Bootstrap database"
      ],
      "metadata": {}
    },
    {
      "cell_type": "code",
      "source": [
        "//| export\n",
        "\n",
        "const tables: Record<string, string> = {\n",
        "  \"foo\": \"CREATE TABLE foo (id INTEGER PRIMARY KEY, name TEXT)\",\n",
        "  \"bar\": \"CREATE TABLE bar (id INTEGER PRIMARY KEY, name TEXT)\",\n",
        "};\n",
        "\n",
        "export const getDatabase = () => {\n",
        "  const db = new Database(Deno.env.get(\"DB_URL\") || \":memory:\");\n",
        "  const existingTables = db\n",
        "    .prepare(\"SELECT name FROM sqlite_master WHERE type='table'\")\n",
        "    .all<{ name: string }>();\n",
        "\n",
        "  Object.keys(tables).forEach((table) => {\n",
        "    if (!existingTables.some((t) => t.name === table)) {\n",
        "      db.prepare(tables[table]).run();\n",
        "    }\n",
        "  });\n",
        "\n",
        "  return db;\n",
        "};"
      ],
      "outputs": [],
      "metadata": {},
      "execution_count": null
    },
    {
      "cell_type": "code",
      "source": [
        "import { assert } from \"asserts\";\n",
        "\n",
        "Deno.test(\"getDatabase\", () => {\n",
        "  const db = getDatabase();\n",
        "  const ts = db.prepare(\"SELECT name FROM sqlite_master WHERE type='table'\")\n",
        "    .all<{\n",
        "      name: string;\n",
        "    }>();\n",
        "  assert(ts.length === 2);\n",
        "  assert(ts.some((t) => t.name === \"foo\"));\n",
        "  assert(ts.some((t) => t.name === \"bar\"));\n",
        "});"
      ],
      "outputs": [],
      "metadata": {},
      "execution_count": null
    }
  ],
  "nbformat": 4,
  "nbformat_minor": 2
}