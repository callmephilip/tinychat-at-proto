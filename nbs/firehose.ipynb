{
  "metadata": {
    "kernelspec": {
      "display_name": "deno",
      "language": "typescript",
      "name": "deno"
    }
  },
  "cells": [
    {
      "cell_type": "markdown",
      "source": [
        "# Firehose"
      ],
      "metadata": {}
    },
    {
      "cell_type": "markdown",
      "source": [
        "Basic implementation via websocket"
      ],
      "metadata": {}
    },
    {
      "cell_type": "code",
      "source": [
        "const firehoseWS = () => {\n",
        "  try {\n",
        "    const ws = new WebSocket(\n",
        "      \"wss://jetstream2.us-east.bsky.network/subscribe?wantedCollections=xyz.statusphere.status\",\n",
        "    );\n",
        "\n",
        "    ws.onopen = () => {\n",
        "      console.log(\"Connected to Bluesky WebSocket\");\n",
        "    };\n",
        "\n",
        "    ws.onmessage = (event) => {\n",
        "      try {\n",
        "        const data = JSON.parse(event.data);\n",
        "\n",
        "        if (data.kind === \"identity\" || data.kind === \"account\") {\n",
        "          return;\n",
        "        }\n",
        "\n",
        "        console.log(`Received: ${JSON.stringify(data, null, 2)}`);\n",
        "      } catch (e) {\n",
        "        console.log(`Raw message: ${event.data}`);\n",
        "      }\n",
        "    };\n",
        "\n",
        "    ws.onerror = (error) => {\n",
        "      console.log(`WebSocket Error: ${error}`);\n",
        "    };\n",
        "\n",
        "    ws.onclose = () => {\n",
        "      console.log(\"Disconnected from Bluesky WebSocket\");\n",
        "      // ws = null;\n",
        "    };\n",
        "  } catch (error) {\n",
        "    console.log(`Connection Error: ${error}`);\n",
        "    // ws = null;\n",
        "  }\n",
        "};"
      ],
      "outputs": [],
      "metadata": {},
      "execution_count": null
    },
    {
      "cell_type": "markdown",
      "source": [
        "Here's @skyware/jetstream version"
      ],
      "metadata": {}
    },
    {
      "cell_type": "code",
      "source": [
        "//| export\n",
        "\n",
        "import { Jetstream } from \"@skyware/jetstream\";\n",
        "// import fs from \"node:fs\";\n",
        "\n",
        "const jetstream = new Jetstream({\n",
        "  wantedCollections: [\"xyz.statusphere.*\"],\n",
        "  endpoint: \"wss://jetstream2.us-east.bsky.network/subscribe\",\n",
        "  // cursor: Number(cursorFile),\n",
        "});\n",
        "\n",
        "type JetstreamClenup = () => void;\n",
        "\n",
        "export function startJetstream(\n",
        "  { onMessage }: { onMessage: (m: string) => void },\n",
        "): JetstreamClenup {\n",
        "  console.log(\"Starting jetstream\");\n",
        "\n",
        "  // let intervalID: NodeJS.Timeout;\n",
        "  // const cursorFile = fs.readFileSync(\"cursor.txt\", \"utf8\");\n",
        "  // if (cursorFile) ctx.logger.info(`Initiate jetstream at cursor ${cursorFile}`);\n",
        "\n",
        "  jetstream.on(\"error\", (err) => console.error(err));\n",
        "  // jetstream.on(\"close\", () => clearInterval(intervalID));\n",
        "\n",
        "  jetstream.on(\"open\", () => {\n",
        "    // intervalID = setInterval(() => {\n",
        "    //   if (jetstream.cursor) {\n",
        "    //     fs.writeFile(\"cursor.txt\", jetstream.cursor.toString(), (err) => {\n",
        "    //       if (err) console.log(err);\n",
        "    //     });\n",
        "    //   }\n",
        "    // }, 60000);\n",
        "  });\n",
        "\n",
        "  jetstream.on(\"xyz.statusphere.status\", (event) => {\n",
        "    try {\n",
        "      // if (event.commit.operation === \"delete\") await deleteProfile(event.did);\n",
        "      // else await updateUser({ did: event.did, profile: event.commit.record });\n",
        "      console.log(\">>>>>>>>>>>>>>>\", event);\n",
        "      onMessage(JSON.stringify(event));\n",
        "    } catch (err) {\n",
        "      console.error(err, JSON.stringify(event));\n",
        "    }\n",
        "  });\n",
        "\n",
        "  jetstream.start();\n",
        "  console.log(\"Jetstream started\");\n",
        "\n",
        "  return () => {\n",
        "    console.log(\"Stopping jetstream\");\n",
        "    jetstream.removeAllListeners();\n",
        "    jetstream.close();\n",
        "    console.log(\"Jetstream stopped\");\n",
        "  };\n",
        "}"
      ],
      "outputs": [],
      "metadata": {},
      "execution_count": null
    },
    {
      "cell_type": "code",
      "source": [
        "import { assert } from \"asserts\";\n",
        "\n",
        "Deno.test(\"jetstream start and stop\", async (t) => {\n",
        "  const cleanup = startJetstream({ onMessage: (m) => console.log(m) });\n",
        "\n",
        "  await t.step(\"passing assertion\", () => {\n",
        "    assert(true);\n",
        "  });\n",
        "\n",
        "  cleanup();\n",
        "});"
      ],
      "outputs": [],
      "metadata": {},
      "execution_count": null
    }
  ],
  "nbformat": 4,
  "nbformat_minor": 2
}