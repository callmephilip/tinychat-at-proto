{
  "metadata": {
    "kernelspec": {
      "display_name": "deno",
      "language": "typescript",
      "name": "deno"
    }
  },
  "cells": [
    {
      "cell_type": "markdown",
      "source": [
        "# Firehose"
      ],
      "metadata": {}
    },
    {
      "cell_type": "markdown",
      "source": [
        "Here's @skyware/jetstream version"
      ],
      "metadata": {}
    },
    {
      "cell_type": "code",
      "source": [
        "//| export\n",
        "\n",
        "import { Jetstream } from \"@skyware/jetstream\";\n",
        "import { Database } from \"tinychat/db.ts\";\n",
        "import { sleep } from \"tinychat/utils.ts\";\n",
        "\n",
        "const jetstream = new Jetstream({\n",
        "  wantedCollections: Deno.env.get(\"JETSTREAM_WANTED_COLLECTIONS\")!.split(\",\"),\n",
        "  endpoint: Deno.env.get(\"JETSTREAM_URL\")!,\n",
        "  // cursor: Number(cursorFile),\n",
        "});\n",
        "\n",
        "type StartJetstreamResult = {\n",
        "  jetstream: Jetstream<string, string>;\n",
        "  cleanup: () => void;\n",
        "};\n",
        "\n",
        "type JetstreamConfig = {\n",
        "  db: Database;\n",
        "};\n",
        "\n",
        "export async function startJetstream({\n",
        "  db,\n",
        "}: JetstreamConfig): Promise<StartJetstreamResult> {\n",
        "  console.log(\"Starting jetstream with db\", db);\n",
        "\n",
        "  // let intervalID: NodeJS.Timeout;\n",
        "  // const cursorFile = fs.readFileSync(\"cursor.txt\", \"utf8\");\n",
        "  // if (cursorFile) ctx.logger.info(`Initiate jetstream at cursor ${cursorFile}`);\n",
        "\n",
        "  jetstream.on(\"error\", (err) => console.error(err));\n",
        "  // jetstream.on(\"close\", () => clearInterval(intervalID));\n",
        "\n",
        "  jetstream.on(\"open\", () => {\n",
        "    // intervalID = setInterval(() => {\n",
        "    //   if (jetstream.cursor) {\n",
        "    //     fs.writeFile(\"cursor.txt\", jetstream.cursor.toString(), (err) => {\n",
        "    //       if (err) console.log(err);\n",
        "    //     });\n",
        "    //   }\n",
        "    // }, 60000);\n",
        "  });\n",
        "\n",
        "  jetstream.start();\n",
        "  await sleep(500);\n",
        "  console.log(\"Jetstream started\");\n",
        "\n",
        "  return {\n",
        "    jetstream,\n",
        "    cleanup: async () => {\n",
        "      console.log(\"Stopping jetstream\");\n",
        "      jetstream.removeAllListeners();\n",
        "      jetstream.close();\n",
        "      console.log(\"Jetstream stopped\");\n",
        "      await sleep(500);\n",
        "    },\n",
        "  };\n",
        "}"
      ],
      "outputs": [],
      "metadata": {},
      "execution_count": null
    },
    {
      "cell_type": "code",
      "source": [
        "import { getDatabase } from \"tinychat/db.ts\";\n",
        "\n",
        "Deno.test(\"jetstream\", async () => {\n",
        "  const { cleanup } = await startJetstream({\n",
        "    db: getDatabase({ reset: true }),\n",
        "  });\n",
        "  await sleep(500);\n",
        "  await cleanup();\n",
        "});"
      ],
      "outputs": [],
      "metadata": {},
      "execution_count": null
    }
  ],
  "nbformat": 4,
  "nbformat_minor": 2
}