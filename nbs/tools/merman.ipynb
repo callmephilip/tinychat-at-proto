{
  "metadata": {
    "kernelspec": {
      "display_name": "deno",
      "language": "typescript",
      "name": "deno"
    }
  },
  "cells": [
    {
      "cell_type": "markdown",
      "source": [
        "# Merman\n",
        "\n",
        "Man handling mermaid diagrams so you can render stuff inside notebooks"
      ],
      "metadata": {}
    },
    {
      "cell_type": "code",
      "source": [
        "//| export\n",
        "\n",
        "import { Hono } from \"hono\";\n",
        "\n",
        "export const merman = (yaml: string, ports: number[] = [7000, 8000]) => {\n",
        "  const port = Math.floor(Math.random() * (ports[1] - ports[0] + 1)) + ports[0];\n",
        "  const app = new Hono();\n",
        "  app.get(\"/\", (c) =>\n",
        "    c.html(`<html>\n",
        "      <body>\n",
        "        <pre class=\"mermaid\">\n",
        "          ${yaml}        \n",
        "        </pre>\n",
        "        <script type=\"module\">\n",
        "          import mermaid from 'https://cdn.jsdelivr.net/npm/mermaid@11/dist/mermaid.esm.min.mjs';\n",
        "          mermaid.initialize({ startOnLoad: true });\n",
        "        </script>\n",
        "      </body>\n",
        "    </html>`));\n",
        "\n",
        "  const server = Deno.serve({ port }, app.fetch);\n",
        "  setTimeout(() => server.shutdown(), 5000);\n",
        "  return Deno.jupyter\n",
        "    .html`<iframe style=\"background-color:#ffffff;\" src=\"http://localhost:${port}\" width=\"100%\" height=\"600px\"></iframe>`;\n",
        "};"
      ],
      "outputs": [],
      "metadata": {},
      "execution_count": null
    },
    {
      "cell_type": "code",
      "source": [
        "merman(`\n",
        "erDiagram\n",
        "    \"chat.tinychat.actor.defs.actorView\" {\n",
        "        did string \"did\"\n",
        "        handle string\n",
        "        displayName string \"maxGraphemes: 64, maxLength: 2560\"\n",
        "        description string \"maxGraphemes: 64, maxLength: 2560\"\n",
        "        avatar string \"uri\" \n",
        "    }\n",
        "    \"chat.tinychat.core.message.record\" {\n",
        "        text string\n",
        "        server string\n",
        "        channel string\n",
        "        reply replyRef\n",
        "    }\n",
        "    \"chat.tinychat.core.message.replyRef\" {\n",
        "        root ref \"lex:com.atproto.repo.strongRef\"\n",
        "        parent ref \"lex:com.atproto.repo.strongRef\"\n",
        "    }\n",
        "`);"
      ],
      "outputs": [
        {
          "text": [
            "Listening on http://0.0.0.0:7915/\n"
          ],
          "output_type": "stream",
          "name": "stderr"
        },
        {
          "data": {
            "text/html": [
              "<iframe style=\"background-color:#ffffff;\" src=\"http://localhost:7915\" width=\"100%\" height=\"600px\"></iframe>"
            ]
          },
          "metadata": {},
          "output_type": "execute_result",
          "execution_count": null
        }
      ],
      "metadata": {},
      "execution_count": null
    }
  ],
  "nbformat": 4,
  "nbformat_minor": 2
}