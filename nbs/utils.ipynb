{
  "metadata": {
    "kernelspec": {
      "display_name": "deno",
      "language": "typescript",
      "name": "deno"
    }
  },
  "cells": [
    {
      "cell_type": "markdown",
      "source": [
        "# Utilities\n",
        "\n",
        "Useful helpers"
      ],
      "metadata": {}
    },
    {
      "cell_type": "markdown",
      "source": [
        "`TinychatAgent.create` gives you a new agent with tinychat lexicon namespace\n",
        "attached. If you don't pass an instance of atproto agent into create, it will\n",
        "try to create and authenticate a test agent using `TEST_AGENT_SERVICE`,\n",
        "`TEST_AGENT_IDENTIFIER`, `TEST_AGENT_PASSWORD` env vars. For example,\n",
        "\n",
        "```\n",
        "TEST_AGENT_SERVICE=https://bsky.social\n",
        "TEST_AGENT_IDENTIFIER=foo\n",
        "TEST_AGENT_PASSWORD=bar\n",
        "```"
      ],
      "metadata": {}
    },
    {
      "cell_type": "code",
      "source": [
        "//| export\n",
        "\n",
        "import { Agent, AtpAgent } from \"@atproto/api\";\n",
        "import { ChatNS } from \"tinychat/api/index.ts\";\n",
        "\n",
        "export class TinychatAgent {\n",
        "  public chat: ChatNS;\n",
        "  public agent: Agent;\n",
        "\n",
        "  constructor(agent: Agent) {\n",
        "    this.chat = new ChatNS(agent);\n",
        "    this.agent = agent;\n",
        "  }\n",
        "\n",
        "  static async create(agent?: Agent | undefined): Promise<TinychatAgent> {\n",
        "    if (agent) {\n",
        "      return new TinychatAgent(agent);\n",
        "    }\n",
        "\n",
        "    const [service, identifier, password] = [\n",
        "      Deno.env.get(\"TEST_AGENT_SERVICE\"),\n",
        "      Deno.env.get(\"TEST_AGENT_IDENTIFIER\"),\n",
        "      Deno.env.get(\"TEST_AGENT_PASSWORD\"),\n",
        "    ];\n",
        "\n",
        "    if (!service || !identifier || !password) {\n",
        "      throw new Error(\n",
        "        \"Missing TEST_AGENT_SERVICE, TEST_AGENT_IDENTIFIER, or TEST_AGENT_PASSWORD\",\n",
        "      );\n",
        "    }\n",
        "\n",
        "    const testAgent = new AtpAgent({ service });\n",
        "    await testAgent.login({ identifier, password });\n",
        "\n",
        "    return new TinychatAgent(testAgent);\n",
        "  }\n",
        "}"
      ],
      "outputs": [],
      "metadata": {},
      "execution_count": null
    },
    {
      "cell_type": "code",
      "source": [
        "import { assert } from \"asserts\";\n",
        "\n",
        "Deno.test(\"make sure test client works\", async () => {\n",
        "  const ta = await TinychatAgent.create();\n",
        "  const { records } = await ta.chat.tinychat.server.list({\n",
        "    repo: ta.agent.assertDid,\n",
        "  });\n",
        "  assert(typeof records.length !== \"undefined\");\n",
        "});"
      ],
      "outputs": [],
      "metadata": {},
      "execution_count": null
    }
  ],
  "nbformat": 4,
  "nbformat_minor": 2
}