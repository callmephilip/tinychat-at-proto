{
  "metadata": {
    "kernelspec": {
      "display_name": "deno",
      "language": "typescript",
      "name": "deno"
    }
  },
  "cells": [
    {
      "cell_type": "markdown",
      "source": [
        "# Utilities\n",
        "\n",
        "Useful helpers"
      ],
      "metadata": {}
    },
    {
      "cell_type": "code",
      "source": [
        "//| export\n",
        "\n",
        "export const slugify = (str: string) => str.toLowerCase().replace(/\\s/g, \"-\");"
      ],
      "outputs": [],
      "metadata": {},
      "execution_count": null
    },
    {
      "cell_type": "markdown",
      "source": [],
      "metadata": {}
    },
    {
      "cell_type": "code",
      "source": [
        "import { assertEquals } from \"asserts\";\n",
        "\n",
        "Deno.test(\"slugify\", () => {\n",
        "  assertEquals(slugify(\"Hello World\"), \"hello-world\");\n",
        "  assertEquals(slugify(\"Another Example\"), \"another-example\");\n",
        "});"
      ],
      "outputs": [],
      "metadata": {},
      "execution_count": null
    },
    {
      "cell_type": "markdown",
      "source": [
        "## Stripping out properties with null values\n",
        "\n",
        "Lexicon record validators do not allow optional fields to be nullable. Essentially, you either have a value of the prop is missing entirely. sqlite query results often have nulls, so we gotta fix this"
      ],
      "metadata": {}
    },
    {
      "cell_type": "code",
      "source": [
        "//| export\n",
        "\n",
        "export const removeNulls = (input: object): object => {\n",
        "  if (input === null || input === undefined) {\n",
        "    return input;\n",
        "  }\n",
        "\n",
        "  if (Array.isArray(input)) {\n",
        "    return input\n",
        "      .filter((item) => item !== null)\n",
        "      .map((item) => removeNulls(item));\n",
        "  }\n",
        "\n",
        "  if (typeof input === \"object\") {\n",
        "    return Object.fromEntries(\n",
        "      Object.entries(input as object)\n",
        "        .filter(([, value]) => value !== null)\n",
        "        .map(([key, value]) => [\n",
        "          key,\n",
        "          typeof value === \"object\" ? removeNulls(value) : value,\n",
        "        ]),\n",
        "    );\n",
        "  }\n",
        "\n",
        "  return input;\n",
        "};"
      ],
      "outputs": [],
      "metadata": {},
      "execution_count": null
    },
    {
      "cell_type": "code",
      "source": [
        "Deno.test(\"removeNulls\", () => {\n",
        "  assertEquals(\n",
        "    removeNulls({ a: 1, b: null, c: 3 }),\n",
        "    { a: 1, c: 3 },\n",
        "    \"works for basic cases\",\n",
        "  );\n",
        "  assertEquals(\n",
        "    removeNulls({ a: 1, b: { d: null, e: \"foo\" }, c: 3 }),\n",
        "    {\n",
        "      a: 1,\n",
        "      b: { e: \"foo\" },\n",
        "      c: 3,\n",
        "    },\n",
        "    \"works for nested objects\",\n",
        "  );\n",
        "  assertEquals(\n",
        "    removeNulls({ a: 1, b: [null, \"foo\"], c: 3 }),\n",
        "    {\n",
        "      a: 1,\n",
        "      b: [\"foo\"],\n",
        "      c: 3,\n",
        "    },\n",
        "    \"works for arrays\",\n",
        "  );\n",
        "  assertEquals(\n",
        "    removeNulls([\n",
        "      { a: 1, b: null, c: 3 },\n",
        "      { d: 4, e: { f: null, g: 7 }, h: 9 },\n",
        "    ]),\n",
        "    [\n",
        "      { a: 1, c: 3 },\n",
        "      { d: 4, e: { g: 7 }, h: 9 },\n",
        "    ],\n",
        "    \"works for array of objects\",\n",
        "  );\n",
        "});"
      ],
      "outputs": [],
      "metadata": {},
      "execution_count": null
    },
    {
      "cell_type": "markdown",
      "source": [
        "## Linkify text\n",
        "\n",
        "Poor man's quick and dirty to get links to show up properly in messages before full support of facets bluesky style"
      ],
      "metadata": {}
    },
    {
      "cell_type": "code",
      "source": [
        "//| export\n",
        "\n",
        "import linkifyStr from \"linkify-string\";\n",
        "\n",
        "export const linkify = (\n",
        "  input: string,\n",
        "  className?: string | undefined,\n",
        "): string => linkifyStr(input, { target: \"_blank\", className });"
      ],
      "outputs": [],
      "metadata": {},
      "execution_count": null
    },
    {
      "cell_type": "code",
      "source": [
        "Deno.test(\"linkify\", () => {\n",
        "  assertEquals(\n",
        "    linkify(\"Hello https://example.com!\"),\n",
        "    'Hello <a href=\"https://example.com\" target=\"_blank\">https://example.com</a>!',\n",
        "    \"works for basic cases\",\n",
        "  );\n",
        "  assertEquals(\n",
        "    linkify(\"Hello https://example.com. How are you?\"),\n",
        "    'Hello <a href=\"https://example.com\" target=\"_blank\">https://example.com</a>. How are you?',\n",
        "    \"works for multiple links\",\n",
        "  );\n",
        "  assertEquals(\n",
        "    linkify(\"Hello https://example.com. How are you?\", \"text-bold underline\"),\n",
        "    'Hello <a href=\"https://example.com\" class=\"text-bold underline\" target=\"_blank\">https://example.com</a>. How are you?',\n",
        "    \"works with className\",\n",
        "  );\n",
        "});"
      ],
      "outputs": [],
      "metadata": {},
      "execution_count": null
    },
    {
      "cell_type": "markdown",
      "source": [
        "## Get project root\n",
        "\n",
        "Figure out where project root is. Useful for normalizing paths to things like DB file"
      ],
      "metadata": {}
    },
    {
      "cell_type": "code",
      "source": [
        "//| export\n",
        "\n",
        "import path from \"node:path\";\n",
        "\n",
        "export const getProjectRoot = (\n",
        "  dir: string = Deno.cwd(),\n",
        "  d = 0,\n",
        "  maxD = 10,\n",
        "): string => {\n",
        "  if (d >= maxD) throw new Error(\"max depth reached\");\n",
        "\n",
        "  try {\n",
        "    const f = path.join(dir, \"deno.json\");\n",
        "    Deno.lstatSync(f);\n",
        "    return path.dirname(f);\n",
        "  } catch {\n",
        "    return getProjectRoot(path.join(dir, \"../\"), d + 1);\n",
        "  }\n",
        "};"
      ],
      "outputs": [],
      "metadata": {},
      "execution_count": null
    },
    {
      "cell_type": "code",
      "source": [
        "path.join(getProjectRoot(), \"data/tc.db\");"
      ],
      "outputs": [
        {
          "data": {
            "text/plain": [
              "\u001b[32m\"/Users/philip/projects/tinychat/data/tc.db\"\u001b[39m"
            ]
          },
          "metadata": {},
          "output_type": "execute_result",
          "execution_count": null
        }
      ],
      "metadata": {},
      "execution_count": null
    },
    {
      "cell_type": "markdown",
      "source": [
        "## Unslopify imports and exports\n",
        "\n",
        "atproto codegens generate modules with sloppy imports like this:\n",
        "\n",
        "```ts\n",
        "import * as ChatTinychatActorProfile from \"./types/chat/tinychat/actor/profile\";\n",
        "import * as ChatTinychatServer from \"./types/chat/tinychat/server\";\n",
        "```\n",
        "\n",
        "We need to convert this to something like this\n",
        "\n",
        "```ts\n",
        "import * as ChatTinychatActorProfile from \"./types/chat/tinychat/actor/profile.ts\";\n",
        "import * as ChatTinychatServer from \"./types/chat/tinychat/server.ts\";\n",
        "```"
      ],
      "metadata": {}
    },
    {
      "cell_type": "markdown",
      "source": [
        "Let's create `processLine` to process one a line from ts module"
      ],
      "metadata": {}
    },
    {
      "cell_type": "code",
      "source": [
        "//| export\n",
        "\n",
        "const processLine = (line: string): string => {\n",
        "  if (!line.trim().match(/^import|export/ig)) {\n",
        "    return line;\n",
        "  }\n",
        "  const module = line.split(\"from\").pop()?.trim().replaceAll(/'|\"|;/ig, \"\");\n",
        "  if (!module || !module.startsWith(\".\") || module.endsWith(\".ts\")) {\n",
        "    return line;\n",
        "  }\n",
        "  return line.replace(module!, `${module}.ts`);\n",
        "};"
      ],
      "outputs": [],
      "metadata": {},
      "execution_count": null
    },
    {
      "cell_type": "code",
      "source": [
        "Deno.test(\"processLine\", () => {\n",
        "  assertEquals(\n",
        "    processLine(\n",
        "      `export * as ComAtprotoTempRequestPhoneVerification from \"./types/com/atproto/temp/requestPhoneVerification\";`,\n",
        "    ),\n",
        "    `export * as ComAtprotoTempRequestPhoneVerification from \"./types/com/atproto/temp/requestPhoneVerification.ts\";`,\n",
        "  );\n",
        "  assertEquals(\n",
        "    processLine(\n",
        "      `import * as ComAtprotoTempRequestPhoneVerification from \"./types/com/atproto/temp/requestPhoneVerification\";`,\n",
        "    ),\n",
        "    `import * as ComAtprotoTempRequestPhoneVerification from \"./types/com/atproto/temp/requestPhoneVerification.ts\";`,\n",
        "  );\n",
        "  assertEquals(processLine(`export class ChatNS {`), `export class ChatNS {`);\n",
        "  assertEquals(\n",
        "    processLine(\n",
        "      `import * as ComAtprotoTempRequestPhoneVerification from \"./types/com/atproto/temp/requestPhoneVerification.ts\";`,\n",
        "    ),\n",
        "    `import * as ComAtprotoTempRequestPhoneVerification from \"./types/com/atproto/temp/requestPhoneVerification.ts\";`,\n",
        "  );\n",
        "});"
      ],
      "outputs": [],
      "metadata": {},
      "execution_count": null
    },
    {
      "cell_type": "markdown",
      "source": [
        "`processFile` runs conversion of the whole file"
      ],
      "metadata": {}
    },
    {
      "cell_type": "code",
      "source": [
        "//| export\n",
        "\n",
        "const processFile = async (file: string): Promise<string> => {\n",
        "  const text = await Deno.readTextFile(file);\n",
        "  const modifiedText = text.split(\"\\n\").map(processLine).join(\"\\n\");\n",
        "  await Deno.writeTextFile(file, modifiedText);\n",
        "  return modifiedText;\n",
        "};\n"
      ],
      "outputs": [],
      "metadata": {},
      "execution_count": null
    },
    {
      "cell_type": "code",
      "source": [
        "Deno.test(\"processFile\", async () => {\n",
        "  const td = await Deno.makeTempDir({});\n",
        "  await Deno.writeTextFile(\n",
        "    `${td}/test.ts`,\n",
        "    `\n",
        "    export * as Foo from \"./foo\";\n",
        "    import { bar } from \"./bar\";\n",
        "\n",
        "    export class ChatNS {\n",
        "      public foo: Foo;\n",
        "      public bar: bar;\n",
        "    }\n",
        "  `,\n",
        "  );\n",
        "  await processFile(`${td}/test.ts`);\n",
        "  assertEquals(\n",
        "    await Deno.readTextFile(`${td}/test.ts`),\n",
        "    `\n",
        "    export * as Foo from \"./foo.ts\";\n",
        "    import { bar } from \"./bar.ts\";\n",
        "\n",
        "    export class ChatNS {\n",
        "      public foo: Foo;\n",
        "      public bar: bar;\n",
        "    }\n",
        "  `,\n",
        "  );\n",
        "});"
      ],
      "outputs": [],
      "metadata": {},
      "execution_count": null
    },
    {
      "cell_type": "markdown",
      "source": [
        "`unslopifyModules` is the main function to recursively process modules in a directory"
      ],
      "metadata": {}
    },
    {
      "cell_type": "code",
      "source": [
        "//| export\n",
        "\n",
        "import { walk } from \"jsr:@std/fs/walk\";\n",
        "\n",
        "export const unslopifyModules = async (dir: string) => {\n",
        "  for await (const dirEntry of walk(dir, { exts: [\"ts\"] })) {\n",
        "    await processFile(dirEntry.path);\n",
        "  }\n",
        "};"
      ],
      "outputs": [],
      "metadata": {},
      "execution_count": null
    },
    {
      "cell_type": "code",
      "source": [
        "//| export\n",
        "\n",
        "export const getTimeus = (): string => `${new Date().getTime() * 1000}`;"
      ],
      "outputs": [],
      "metadata": {},
      "execution_count": null
    },
    {
      "cell_type": "markdown",
      "source": [
        "## Sleep\n",
        "\n",
        "Async sleep helper"
      ],
      "metadata": {}
    },
    {
      "cell_type": "code",
      "source": [
        "//| export\n",
        "\n",
        "export const sleep = (ms: number) => new Promise((resolve) => setTimeout(resolve, ms));"
      ],
      "outputs": [],
      "metadata": {},
      "execution_count": null
    },
    {
      "cell_type": "markdown",
      "source": [
        "# Short ID from at-uri"
      ],
      "metadata": {}
    },
    {
      "cell_type": "code",
      "source": [
        "//| export\n",
        "\n",
        "export const shortIdFromAtUri = (atUri: string) => {\n",
        "  return atUri.split(\"/\").pop();\n",
        "};"
      ],
      "outputs": [],
      "metadata": {},
      "execution_count": null
    },
    {
      "cell_type": "code",
      "source": [
        "Deno.test(\"shortIdFromAtUri\", () => {\n",
        "  assertEquals(\n",
        "    shortIdFromAtUri(\n",
        "      \"at://did:plc:ubdeopbbkbgedccgbum7dhsh/chat.tinychat.server/3lfu4indvy72b\",\n",
        "    ),\n",
        "    \"3lfu4indvy72b\",\n",
        "  );\n",
        "});"
      ],
      "outputs": [],
      "metadata": {},
      "execution_count": null
    },
    {
      "cell_type": "markdown",
      "source": [
        "## AT URI from parts\n",
        "\n",
        "Connect did + collection name + rkey"
      ],
      "metadata": {}
    },
    {
      "cell_type": "code",
      "source": [
        "//| export\n",
        "\n",
        "export const atURIFromParts = ({\n",
        "  did,\n",
        "  collection,\n",
        "  rkey,\n",
        "}: {\n",
        "  did: string;\n",
        "  collection: string;\n",
        "  rkey: string;\n",
        "}): string => `at://${did}/${collection}/${rkey}`;"
      ],
      "outputs": [],
      "metadata": {},
      "execution_count": null
    },
    {
      "cell_type": "code",
      "source": [
        "Deno.test(\"atURIFromParts\", () => {\n",
        "  assertEquals(\n",
        "    atURIFromParts({\n",
        "      did: \"did:plc:ubdeopbbkbgedccgbum7dhsh\",\n",
        "      collection: \"chat.tinychat.server\",\n",
        "      rkey: \"3lfu4indvy72b\",\n",
        "    }),\n",
        "    \"at://did:plc:ubdeopbbkbgedccgbum7dhsh/chat.tinychat.server/3lfu4indvy72b\",\n",
        "  );\n",
        "});"
      ],
      "outputs": [],
      "metadata": {},
      "execution_count": null
    },
    {
      "cell_type": "markdown",
      "source": [
        "# URL helpers for ServerView"
      ],
      "metadata": {}
    },
    {
      "cell_type": "code",
      "source": [
        "//| export\n",
        "\n",
        "import { ids } from \"@tinychat/lexicons/lexicons.ts\";\n",
        "import { ChannelView } from \"@tinychat/lexicons/types/chat/tinychat/server/defs.ts\";\n",
        "import { MessageView } from \"tinychat/core/base.ts\";\n",
        "\n",
        "export const serverAtURIFromUrl = (url: string, prefix: string = \"chat\") => {\n",
        "  const parts = url.split(\"?\")[0].split(\"/\" + prefix)[1].replace(/^\\//ig, \"\")\n",
        "    .split(\n",
        "      \"/\",\n",
        "    );\n",
        "  return `at://did:plc:${parts[0]}/${ids.ChatTinychatCoreServer}/${parts[1]}`;\n",
        "};\n",
        "\n",
        "export const urlFromServerAtURI = (atUri: string, prefix: string = \"chat\") => {\n",
        "  const parts = atUri.split(ids.ChatTinychatCoreServer);\n",
        "  //@ts-ignore yolo\n",
        "  const did = parts[0].split(\":\").pop().replace(\"/\", \"\");\n",
        "  //@ts-ignore yolo\n",
        "  const rkey = parts[1].replace(\"/\", \"\");\n",
        "  return `/${prefix}/${did}/${rkey}`;\n",
        "};\n",
        "\n",
        "export const urlForChannelMessageList = (channel: ChannelView) => {\n",
        "  return urlFromServerAtURI(channel.server).replace(\"/chat\", \"/messages/list\") +\n",
        "    \"/\" + channel.id;\n",
        "};\n",
        "\n",
        "export const urlForMessageThread = (message: MessageView) => {\n",
        "  return (\n",
        "    urlFromServerAtURI(message.record.server).replace(\n",
        "      \"/chat\",\n",
        "      \"/messages/list\",\n",
        "    ) +\n",
        "    \"/\" +\n",
        "    message.record.channel +\n",
        "    `?parent=${encodeURIComponent(message.uri)}&sort=chronological`\n",
        "  );\n",
        "};\n",
        "\n",
        "export const parseURLForChannelMessageList = (\n",
        "  url: string,\n",
        "): { server: string; channel: string } => {\n",
        "  const parts = url.replace(\"/messages/list/\", \"\").split(\"/\");\n",
        "  // \"/messages/list/ubdeopbbkbgedccgbum7dhsh/3lgawfvbbtx2b/abc\";\n",
        "  console.log(parts);\n",
        "  return {\n",
        "    server: `at://did:plc:${parts[0]}/${ids.ChatTinychatCoreServer}/${parts[1]}`,\n",
        "    channel: parts[2],\n",
        "  };\n",
        "};"
      ],
      "outputs": [],
      "metadata": {},
      "execution_count": null
    },
    {
      "cell_type": "code",
      "source": [
        "Deno.test(\"serverAtURIFromUrl\", () => {\n",
        "  assertEquals(\n",
        "    serverAtURIFromUrl(\n",
        "      \"https://tinychat.ngrok.app/chat/ubdeopbbkbgedccgbum7dhsh/3lgawfvbbtx2b\",\n",
        "    ),\n",
        "    \"at://did:plc:ubdeopbbkbgedccgbum7dhsh/chat.tinychat.core.server/3lgawfvbbtx2b\",\n",
        "  );\n",
        "  assertEquals(\n",
        "    serverAtURIFromUrl(\n",
        "      \"https://tinychat.ngrok.app/chat/ubdeopbbkbgedccgbum7dhsh/3lgawfvbbtx2b?a=1&b=2\",\n",
        "    ),\n",
        "    \"at://did:plc:ubdeopbbkbgedccgbum7dhsh/chat.tinychat.core.server/3lgawfvbbtx2b\",\n",
        "  );\n",
        "});\n",
        "\n",
        "Deno.test(\"urlFromServerAtURI\", () => {\n",
        "  assertEquals(\n",
        "    urlFromServerAtURI(\n",
        "      \"at://did:plc:ubdeopbbkbgedccgbum7dhsh/chat.tinychat.core.server/3lgawfvbbtx2b\",\n",
        "    ),\n",
        "    \"/chat/ubdeopbbkbgedccgbum7dhsh/3lgawfvbbtx2b\",\n",
        "  );\n",
        "});\n",
        "\n",
        "Deno.test(\"urlForChannelMessageList\", () => {\n",
        "  assertEquals(\n",
        "    urlForChannelMessageList({\n",
        "      id: \"abc\",\n",
        "      server: \"at://did:plc:ubdeopbbkbgedccgbum7dhsh/chat.tinychat.core.server/3lgawfvbbtx2b\",\n",
        "      name: \"foo\",\n",
        "    }),\n",
        "    \"/messages/list/ubdeopbbkbgedccgbum7dhsh/3lgawfvbbtx2b/abc\",\n",
        "  );\n",
        "});\n",
        "\n",
        "Deno.test(\"parseURLForChannelMessageList\", () => {\n",
        "  assertEquals(\n",
        "    parseURLForChannelMessageList(\n",
        "      \"/messages/list/ubdeopbbkbgedccgbum7dhsh/3lgawfvbbtx2b/abc\",\n",
        "    ),\n",
        "    {\n",
        "      server: \"at://did:plc:ubdeopbbkbgedccgbum7dhsh/chat.tinychat.core.server/3lgawfvbbtx2b\",\n",
        "      channel: \"abc\",\n",
        "    },\n",
        "  );\n",
        "});"
      ],
      "outputs": [],
      "metadata": {},
      "execution_count": null
    },
    {
      "cell_type": "code",
      "source": [
        "//| export\n",
        "\n",
        "/**\n",
        " * Javascript uses utf16-encoded strings while most environments and specs\n",
        " * have standardized around utf8 (including JSON).\n",
        " *\n",
        " * After some lengthy debated we decided that richtext facets need to use\n",
        " * utf8 indices. This means we need tools to convert indices between utf8\n",
        " * and utf16, and that's precisely what this library handles.\n",
        " */\n",
        "\n",
        "const encoder = new TextEncoder();\n",
        "const decoder = new TextDecoder();\n",
        "\n",
        "export interface UtfString {\n",
        "  u16: string;\n",
        "  u8: Uint8Array;\n",
        "}\n",
        "\n",
        "export const createUtfString = (utf16: string): UtfString => {\n",
        "  return {\n",
        "    u16: utf16,\n",
        "    u8: encoder.encode(utf16),\n",
        "  };\n",
        "};\n",
        "\n",
        "export const getUtf8Length = (utf: UtfString) => {\n",
        "  return utf.u8.byteLength;\n",
        "};\n",
        "\n",
        "export const sliceUtf8 = (utf: UtfString, start?: number, end?: number) => {\n",
        "  return decoder.decode(utf.u8.slice(start, end));\n",
        "};\n"
      ],
      "outputs": [],
      "metadata": {},
      "execution_count": null
    },
    {
      "cell_type": "code",
      "source": [
        "//| export\n",
        "\n",
        "const TRIM_HOST_RE = /^www\\./;\n",
        "const PATH_MAX_LENGTH = 18;\n",
        "\n",
        "export const toShortUrl = (uri: string): string => {\n",
        "  try {\n",
        "    const url = new URL(uri);\n",
        "    const protocol = url.protocol;\n",
        "\n",
        "    const host = url.host.replace(TRIM_HOST_RE, \"\");\n",
        "    const pathname = url.pathname;\n",
        "\n",
        "    const path = (pathname === \"/\" ? \"\" : pathname) + url.search + url.hash;\n",
        "\n",
        "    if (protocol === \"http:\" || protocol === \"https:\") {\n",
        "      if (path.length > PATH_MAX_LENGTH) {\n",
        "        return host + path.slice(0, PATH_MAX_LENGTH - 1) + \"…\";\n",
        "      }\n",
        "\n",
        "      return host + path;\n",
        "    }\n",
        "  } catch {\n",
        "    // noop\n",
        "  }\n",
        "\n",
        "  return uri;\n",
        "};"
      ],
      "outputs": [],
      "metadata": {},
      "execution_count": null
    },
    {
      "cell_type": "code",
      "source": [
        "toShortUrl(\n",
        "  \"https://github.com/mary-ext/skeetdeck/blob/aa0cb74c0ace489b79d2671c4b9e740ec21623c7/app/api/richtext/renderer.ts\"\n",
        ");"
      ],
      "outputs": [
        {
          "data": {
            "text/plain": [
              "\u001b[32m\"github.com/mary-ext/skeetde…\"\u001b[39m"
            ]
          },
          "metadata": {},
          "output_type": "execute_result",
          "execution_count": null
        }
      ],
      "metadata": {},
      "execution_count": null
    },
    {
      "cell_type": "code",
      "source": [
        "import { exportNb } from \"@jurassic/jurassic\";\n",
        "\n",
        "await exportNb(\"utils.ipynb\");"
      ],
      "outputs": [],
      "metadata": {},
      "execution_count": null
    }
  ],
  "nbformat": 4,
  "nbformat_minor": 2
}