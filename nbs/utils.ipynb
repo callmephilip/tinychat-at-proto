{
  "metadata": {
    "kernelspec": {
      "display_name": "deno",
      "language": "typescript",
      "name": "deno"
    }
  },
  "cells": [
    {
      "cell_type": "markdown",
      "source": [
        "# Utilities\n",
        "\n",
        "Useful helpers"
      ],
      "metadata": {}
    },
    {
      "cell_type": "markdown",
      "source": [
        "## TinychatAgent\n",
        "\n",
        "`TinychatAgent.create` gives you a new agent with tinychat lexicon namespace\n",
        "attached. If you don't pass an instance of atproto agent into create, it will\n",
        "try to create and authenticate a test agent using `TEST_AGENT_SERVICE`,\n",
        "`TEST_AGENT_IDENTIFIER`, `TEST_AGENT_PASSWORD` env vars. For example,\n",
        "\n",
        "```\n",
        "TEST_AGENT_SERVICE=https://bsky.social\n",
        "TEST_AGENT_IDENTIFIER=foo\n",
        "TEST_AGENT_PASSWORD=bar\n",
        "```"
      ],
      "metadata": {}
    },
    {
      "cell_type": "code",
      "source": [
        "//| export\n",
        "\n",
        "import { Agent, AtpAgent } from \"@atproto/api\";\n",
        "import { ChatNS } from \"tinychat/api/index.ts\";\n",
        "\n",
        "export class TinychatAgent {\n",
        "  public chat: ChatNS;\n",
        "  public agent: Agent;\n",
        "\n",
        "  constructor(agent: Agent) {\n",
        "    this.chat = new ChatNS(agent);\n",
        "    this.agent = agent;\n",
        "  }\n",
        "\n",
        "  static async create(agent?: Agent | undefined): Promise<TinychatAgent> {\n",
        "    if (agent) {\n",
        "      return new TinychatAgent(agent);\n",
        "    }\n",
        "\n",
        "    const [service, identifier, password] = [\n",
        "      Deno.env.get(\"TEST_AGENT_SERVICE\"),\n",
        "      Deno.env.get(\"TEST_AGENT_IDENTIFIER\"),\n",
        "      Deno.env.get(\"TEST_AGENT_PASSWORD\"),\n",
        "    ];\n",
        "\n",
        "    if (!service || !identifier || !password) {\n",
        "      throw new Error(\n",
        "        \"Missing TEST_AGENT_SERVICE, TEST_AGENT_IDENTIFIER, or TEST_AGENT_PASSWORD\",\n",
        "      );\n",
        "    }\n",
        "\n",
        "    const testAgent = new AtpAgent({ service });\n",
        "    await testAgent.login({ identifier, password });\n",
        "\n",
        "    return new TinychatAgent(testAgent);\n",
        "  }\n",
        "}"
      ],
      "outputs": [],
      "metadata": {},
      "execution_count": null
    },
    {
      "cell_type": "code",
      "source": [
        "import { assert } from \"asserts\";\n",
        "\n",
        "Deno.test(\"make sure test client works\", async () => {\n",
        "  const ta = await TinychatAgent.create();\n",
        "  const { records } = await ta.chat.tinychat.server.list({\n",
        "    repo: ta.agent.assertDid,\n",
        "  });\n",
        "  assert(typeof records.length !== \"undefined\");\n",
        "});"
      ],
      "outputs": [],
      "metadata": {},
      "execution_count": null
    },
    {
      "cell_type": "markdown",
      "source": [
        "## Unslopify imports and exports\n",
        "\n",
        "atproto codegens generate modules with sloppy imports like this:\n",
        "\n",
        "```ts\n",
        "import * as ChatTinychatActorProfile from \"./types/chat/tinychat/actor/profile\";\n",
        "import * as ChatTinychatServer from \"./types/chat/tinychat/server\";\n",
        "```\n",
        "\n",
        "We need to convert this to something like this\n",
        "\n",
        "```ts\n",
        "import * as ChatTinychatActorProfile from \"./types/chat/tinychat/actor/profile.ts\";\n",
        "import * as ChatTinychatServer from \"./types/chat/tinychat/server.ts\";\n",
        "```"
      ],
      "metadata": {}
    },
    {
      "cell_type": "markdown",
      "source": [
        "Let's create `processLine` to process one a line from ts module"
      ],
      "metadata": {}
    },
    {
      "cell_type": "code",
      "source": [
        "//| export\n",
        "\n",
        "const processLine = (line: string): string => {\n",
        "  if (!line.trim().match(/^import|export/ig)) {\n",
        "    return line;\n",
        "  }\n",
        "  const module = line.split(\"from\").pop()?.trim().replaceAll(/'|\"|;/ig, \"\");\n",
        "  if (!module || !module.startsWith(\".\") || module.endsWith(\".ts\")) {\n",
        "    return line;\n",
        "  }\n",
        "  return line.replace(module!, `${module}.ts`);\n",
        "};"
      ],
      "outputs": [],
      "metadata": {},
      "execution_count": null
    },
    {
      "cell_type": "code",
      "source": [
        "import { assertEquals } from \"asserts\";\n",
        "\n",
        "Deno.test(\"processLine\", () => {\n",
        "  assertEquals(\n",
        "    processLine(\n",
        "      `export * as ComAtprotoTempRequestPhoneVerification from \"./types/com/atproto/temp/requestPhoneVerification\";`,\n",
        "    ),\n",
        "    `export * as ComAtprotoTempRequestPhoneVerification from \"./types/com/atproto/temp/requestPhoneVerification.ts\";`,\n",
        "  );\n",
        "  assertEquals(\n",
        "    processLine(\n",
        "      `import * as ComAtprotoTempRequestPhoneVerification from \"./types/com/atproto/temp/requestPhoneVerification\";`,\n",
        "    ),\n",
        "    `import * as ComAtprotoTempRequestPhoneVerification from \"./types/com/atproto/temp/requestPhoneVerification.ts\";`,\n",
        "  );\n",
        "  assertEquals(processLine(`export class ChatNS {`), `export class ChatNS {`);\n",
        "  assertEquals(\n",
        "    processLine(\n",
        "      `import * as ComAtprotoTempRequestPhoneVerification from \"./types/com/atproto/temp/requestPhoneVerification.ts\";`,\n",
        "    ),\n",
        "    `import * as ComAtprotoTempRequestPhoneVerification from \"./types/com/atproto/temp/requestPhoneVerification.ts\";`,\n",
        "  );\n",
        "});"
      ],
      "outputs": [],
      "metadata": {},
      "execution_count": null
    },
    {
      "cell_type": "markdown",
      "source": [
        "`processFile` runs conversion of the whole file"
      ],
      "metadata": {}
    },
    {
      "cell_type": "code",
      "source": [
        "//| export\n",
        "\n",
        "const processFile = async (file: string): Promise<string> => {\n",
        "  const text = await Deno.readTextFile(file);\n",
        "  const modifiedText = text.split(\"\\n\").map(processLine).join(\"\\n\");\n",
        "  await Deno.writeTextFile(file, modifiedText);\n",
        "  return modifiedText;\n",
        "};\n"
      ],
      "outputs": [],
      "metadata": {},
      "execution_count": null
    },
    {
      "cell_type": "code",
      "source": [
        "Deno.test(\"processFile\", async () => {\n",
        "  const td = await Deno.makeTempDir({});\n",
        "  await Deno.writeTextFile(\n",
        "    `${td}/test.ts`,\n",
        "    `\n",
        "    export * as Foo from \"./foo\";\n",
        "    import { bar } from \"./bar\";\n",
        "\n",
        "    export class ChatNS {\n",
        "      public foo: Foo;\n",
        "      public bar: bar;\n",
        "    }\n",
        "  `,\n",
        "  );\n",
        "  await processFile(`${td}/test.ts`);\n",
        "  assertEquals(\n",
        "    await Deno.readTextFile(`${td}/test.ts`),\n",
        "    `\n",
        "    export * as Foo from \"./foo.ts\";\n",
        "    import { bar } from \"./bar.ts\";\n",
        "\n",
        "    export class ChatNS {\n",
        "      public foo: Foo;\n",
        "      public bar: bar;\n",
        "    }\n",
        "  `,\n",
        "  );\n",
        "});"
      ],
      "outputs": [],
      "metadata": {},
      "execution_count": null
    },
    {
      "cell_type": "markdown",
      "source": [
        "`unslopifyModules` is the main function to recursively process modules in a\n",
        "directory"
      ],
      "metadata": {}
    },
    {
      "cell_type": "code",
      "source": [
        "//| export\n",
        "\n",
        "import { walk } from \"jsr:@std/fs/walk\";\n",
        "\n",
        "export const unslopifyModules = async (dir: string) => {\n",
        "  for await (const dirEntry of walk(dir, { exts: [\"ts\"] })) {\n",
        "    await processFile(dirEntry.path);\n",
        "  }\n",
        "};"
      ],
      "outputs": [],
      "metadata": {},
      "execution_count": null
    }
  ],
  "nbformat": 4,
  "nbformat_minor": 2
}