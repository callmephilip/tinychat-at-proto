{
  "metadata": {
    "kernelspec": {
      "display_name": "deno",
      "language": "typescript",
      "name": "deno"
    }
  },
  "cells": [
    {
      "cell_type": "code",
      "source": [
        "//| export\n",
        "\n",
        "import { assert } from \"asserts\";"
      ],
      "outputs": [],
      "metadata": {},
      "execution_count": null
    },
    {
      "cell_type": "markdown",
      "source": [
        "# Utilities\n",
        "\n",
        "Useful helpers"
      ],
      "metadata": {}
    },
    {
      "cell_type": "markdown",
      "source": [
        "## Get project root\n",
        "\n",
        "Figure out where project root is. Useful for normalizing paths to things like DB\n",
        "file"
      ],
      "metadata": {}
    },
    {
      "cell_type": "code",
      "source": [
        "//| export\n",
        "\n",
        "import path from \"node:path\";\n",
        "\n",
        "export const getProjectRoot = (\n",
        "  dir: string = Deno.cwd(),\n",
        "  d = 0,\n",
        "  maxD = 10\n",
        "): string => {\n",
        "  if (d >= maxD) throw new Error(\"max depth reached\");\n",
        "\n",
        "  try {\n",
        "    const f = path.join(dir, \"deno.json\");\n",
        "    Deno.lstatSync(f);\n",
        "    return path.dirname(f);\n",
        "  } catch {\n",
        "    return getProjectRoot(path.join(dir, \"../\"), d + 1);\n",
        "  }\n",
        "};"
      ],
      "outputs": [],
      "metadata": {},
      "execution_count": null
    },
    {
      "cell_type": "code",
      "source": [
        "path.join(getProjectRoot(), \"data/tc.db\");"
      ],
      "outputs": [
        {
          "data": {
            "text/plain": [
              "\u001b[32m\"/Users/philip/projects/tinychat/data/tc.db\"\u001b[39m"
            ]
          },
          "metadata": {},
          "output_type": "execute_result",
          "execution_count": null
        }
      ],
      "metadata": {},
      "execution_count": null
    },
    {
      "cell_type": "markdown",
      "source": [
        "## Unslopify imports and exports\n",
        "\n",
        "atproto codegens generate modules with sloppy imports like this:\n",
        "\n",
        "```ts\n",
        "import * as ChatTinychatActorProfile from \"./types/chat/tinychat/actor/profile\";\n",
        "import * as ChatTinychatServer from \"./types/chat/tinychat/server\";\n",
        "```\n",
        "\n",
        "We need to convert this to something like this\n",
        "\n",
        "```ts\n",
        "import * as ChatTinychatActorProfile from \"./types/chat/tinychat/actor/profile.ts\";\n",
        "import * as ChatTinychatServer from \"./types/chat/tinychat/server.ts\";\n",
        "```"
      ],
      "metadata": {}
    },
    {
      "cell_type": "markdown",
      "source": [
        "Let's create `processLine` to process one a line from ts module"
      ],
      "metadata": {}
    },
    {
      "cell_type": "code",
      "source": [
        "//| export\n",
        "\n",
        "const processLine = (line: string): string => {\n",
        "  if (!line.trim().match(/^import|export/ig)) {\n",
        "    return line;\n",
        "  }\n",
        "  const module = line.split(\"from\").pop()?.trim().replaceAll(/'|\"|;/ig, \"\");\n",
        "  if (!module || !module.startsWith(\".\") || module.endsWith(\".ts\")) {\n",
        "    return line;\n",
        "  }\n",
        "  return line.replace(module!, `${module}.ts`);\n",
        "};"
      ],
      "outputs": [],
      "metadata": {},
      "execution_count": null
    },
    {
      "cell_type": "code",
      "source": [
        "import { assertEquals } from \"asserts\";\n",
        "\n",
        "Deno.test(\"processLine\", () => {\n",
        "  assertEquals(\n",
        "    processLine(\n",
        "      `export * as ComAtprotoTempRequestPhoneVerification from \"./types/com/atproto/temp/requestPhoneVerification\";`,\n",
        "    ),\n",
        "    `export * as ComAtprotoTempRequestPhoneVerification from \"./types/com/atproto/temp/requestPhoneVerification.ts\";`,\n",
        "  );\n",
        "  assertEquals(\n",
        "    processLine(\n",
        "      `import * as ComAtprotoTempRequestPhoneVerification from \"./types/com/atproto/temp/requestPhoneVerification\";`,\n",
        "    ),\n",
        "    `import * as ComAtprotoTempRequestPhoneVerification from \"./types/com/atproto/temp/requestPhoneVerification.ts\";`,\n",
        "  );\n",
        "  assertEquals(processLine(`export class ChatNS {`), `export class ChatNS {`);\n",
        "  assertEquals(\n",
        "    processLine(\n",
        "      `import * as ComAtprotoTempRequestPhoneVerification from \"./types/com/atproto/temp/requestPhoneVerification.ts\";`,\n",
        "    ),\n",
        "    `import * as ComAtprotoTempRequestPhoneVerification from \"./types/com/atproto/temp/requestPhoneVerification.ts\";`,\n",
        "  );\n",
        "});"
      ],
      "outputs": [],
      "metadata": {},
      "execution_count": null
    },
    {
      "cell_type": "markdown",
      "source": [
        "`processFile` runs conversion of the whole file"
      ],
      "metadata": {}
    },
    {
      "cell_type": "code",
      "source": [
        "//| export\n",
        "\n",
        "const processFile = async (file: string): Promise<string> => {\n",
        "  const text = await Deno.readTextFile(file);\n",
        "  const modifiedText = text.split(\"\\n\").map(processLine).join(\"\\n\");\n",
        "  await Deno.writeTextFile(file, modifiedText);\n",
        "  return modifiedText;\n",
        "};\n"
      ],
      "outputs": [],
      "metadata": {},
      "execution_count": null
    },
    {
      "cell_type": "code",
      "source": [
        "Deno.test(\"processFile\", async () => {\n",
        "  const td = await Deno.makeTempDir({});\n",
        "  await Deno.writeTextFile(\n",
        "    `${td}/test.ts`,\n",
        "    `\n",
        "    export * as Foo from \"./foo\";\n",
        "    import { bar } from \"./bar\";\n",
        "\n",
        "    export class ChatNS {\n",
        "      public foo: Foo;\n",
        "      public bar: bar;\n",
        "    }\n",
        "  `,\n",
        "  );\n",
        "  await processFile(`${td}/test.ts`);\n",
        "  assertEquals(\n",
        "    await Deno.readTextFile(`${td}/test.ts`),\n",
        "    `\n",
        "    export * as Foo from \"./foo.ts\";\n",
        "    import { bar } from \"./bar.ts\";\n",
        "\n",
        "    export class ChatNS {\n",
        "      public foo: Foo;\n",
        "      public bar: bar;\n",
        "    }\n",
        "  `,\n",
        "  );\n",
        "});"
      ],
      "outputs": [],
      "metadata": {},
      "execution_count": null
    },
    {
      "cell_type": "markdown",
      "source": [
        "`unslopifyModules` is the main function to recursively process modules in a\n",
        "directory"
      ],
      "metadata": {}
    },
    {
      "cell_type": "code",
      "source": [
        "//| export\n",
        "\n",
        "import { walk } from \"jsr:@std/fs/walk\";\n",
        "\n",
        "export const unslopifyModules = async (dir: string) => {\n",
        "  for await (const dirEntry of walk(dir, { exts: [\"ts\"] })) {\n",
        "    await processFile(dirEntry.path);\n",
        "  }\n",
        "};"
      ],
      "outputs": [],
      "metadata": {},
      "execution_count": null
    },
    {
      "cell_type": "markdown",
      "source": [
        "## Sleep\n",
        "\n",
        "Async sleep helper"
      ],
      "metadata": {}
    },
    {
      "cell_type": "code",
      "source": [
        "//| export\n",
        "\n",
        "export const sleep = (ms: number) =>\n",
        "  new Promise((resolve) => setTimeout(resolve, ms));"
      ],
      "outputs": [],
      "metadata": {},
      "execution_count": null
    },
    {
      "cell_type": "markdown",
      "source": [
        "# Assert with a timeout\n",
        "\n",
        "Run assert after waiting for delay ms"
      ],
      "metadata": {}
    },
    {
      "cell_type": "code",
      "source": [
        "//| export\n",
        "\n",
        "export async function assertWithWait<T>(\n",
        "  fn: () => Promise<T>,\n",
        "  expected: T,\n",
        "  delay: number = 5000,\n",
        ") {\n",
        "  await sleep(delay);\n",
        "  assert((await fn()) === expected);\n",
        "}"
      ],
      "outputs": [],
      "metadata": {},
      "execution_count": null
    },
    {
      "cell_type": "code",
      "source": [
        "Deno.test(\"assertWithWait\", async () => {\n",
        "  await assertWithWait(() => Promise.resolve(2), 2, 5000);\n",
        "});"
      ],
      "outputs": [],
      "metadata": {},
      "execution_count": null
    },
    {
      "cell_type": "markdown",
      "source": [
        "# Short ID from at-uri"
      ],
      "metadata": {}
    },
    {
      "cell_type": "code",
      "source": [
        "//| export\n",
        "\n",
        "export const shortIdFromAtUri = (atUri: string) => {\n",
        "  return atUri.split(\"/\").pop();\n",
        "}"
      ],
      "outputs": [],
      "metadata": {},
      "execution_count": null
    },
    {
      "cell_type": "code",
      "source": [
        "import {assertEquals} from \"asserts\";\n",
        "\n",
        "Deno.test(\"shortIdFromAtUri\", () => {\n",
        "  assertEquals(shortIdFromAtUri(\"at://did:plc:ubdeopbbkbgedccgbum7dhsh/chat.tinychat.server/3lfu4indvy72b\"), \"3lfu4indvy72b\");\n",
        "});"
      ],
      "outputs": [],
      "metadata": {},
      "execution_count": null
    },
    {
      "cell_type": "markdown",
      "source": [
        "# URL helpers for ServerView"
      ],
      "metadata": {}
    },
    {
      "cell_type": "code",
      "source": [
        "//| export\n",
        "\n",
        "import { ids } from \"tinychat/api/lexicons.ts\";\n",
        "import { ChannelView } from \"tinychat/api/types/chat/tinychat/server/defs.ts\";\n",
        "\n",
        "export const serverAtURIFromUrl = (url: string) => {\n",
        "  const parts = url.split(\"?\")[0].split(\"/chat\")[1].replace(/^\\//ig, \"\").split(\"/\");\n",
        "  return `at://did:plc:${parts[0]}/${ids.ChatTinychatCoreServer}/${parts[1]}`;\n",
        "}\n",
        "\n",
        "export const urlFromServerAtURI = (atUri: string) => {\n",
        "  const parts = atUri.split(ids.ChatTinychatCoreServer);\n",
        "  //@ts-ignore yolo\n",
        "  const did = parts[0].split(\":\").pop().replace(\"/\", \"\");\n",
        "  //@ts-ignore yolo\n",
        "  const rkey = parts[1].replace(\"/\", \"\");\n",
        "  return `/chat/${did}/${rkey}`;  \n",
        "}\n",
        "\n",
        "\n",
        "export const urlForChannelMessageList = (channel: ChannelView) => {\n",
        "  return urlFromServerAtURI(channel.server).replace(\"/chat\", \"/messages/list\") + \"/\" + channel.id;\n",
        "}\n",
        "\n",
        "export const parseURLForChannelMessageList = (url: string): { server: string, channel: string }  => {\n",
        "  const parts = url.replace(\"/messages/list/\", \"\").split(\"/\"); \n",
        "  // \"/messages/list/ubdeopbbkbgedccgbum7dhsh/3lgawfvbbtx2b/abc\";\n",
        "  console.log(parts);\n",
        "  return {\n",
        "    server: `at://did:plc:${parts[0]}/${ids.ChatTinychatCoreServer}/${parts[1]}`,\n",
        "    channel: parts[2]\n",
        "  };\n",
        "}\n"
      ],
      "outputs": [],
      "metadata": {},
      "execution_count": null
    },
    {
      "cell_type": "code",
      "source": [
        "import { assertEquals } from \"asserts\";\n",
        "\n",
        "Deno.test(\"serverAtURIFromUrl\", () => {\n",
        "  assertEquals(\n",
        "    serverAtURIFromUrl(\"https://tinychat.ngrok.app/chat/ubdeopbbkbgedccgbum7dhsh/3lgawfvbbtx2b\"),\n",
        "    \"at://did:plc:ubdeopbbkbgedccgbum7dhsh/chat.tinychat.core.server/3lgawfvbbtx2b\"\n",
        "  );\n",
        "  assertEquals(\n",
        "    serverAtURIFromUrl(\n",
        "      \"https://tinychat.ngrok.app/chat/ubdeopbbkbgedccgbum7dhsh/3lgawfvbbtx2b?a=1&b=2\"\n",
        "    ),\n",
        "    \"at://did:plc:ubdeopbbkbgedccgbum7dhsh/chat.tinychat.core.server/3lgawfvbbtx2b\"\n",
        "  );\n",
        "});\n",
        "\n",
        "Deno.test(\"urlFromServerAtURI\", () => {\n",
        "  assertEquals(\n",
        "    urlFromServerAtURI(\"at://did:plc:ubdeopbbkbgedccgbum7dhsh/chat.tinychat.core.server/3lgawfvbbtx2b\"),\n",
        "    \"/chat/ubdeopbbkbgedccgbum7dhsh/3lgawfvbbtx2b\"\n",
        "  );\n",
        "});\n",
        "\n",
        "Deno.test(\"urlForChannelMessageList\", () => {\n",
        "  assertEquals(\n",
        "    urlForChannelMessageList({\n",
        "      id: \"abc\",\n",
        "      server:\n",
        "        \"at://did:plc:ubdeopbbkbgedccgbum7dhsh/chat.tinychat.core.server/3lgawfvbbtx2b\",\n",
        "      name: \"foo\",\n",
        "    }),\n",
        "    \"/messages/list/ubdeopbbkbgedccgbum7dhsh/3lgawfvbbtx2b/abc\"\n",
        "  );\n",
        "});\n",
        "\n",
        "Deno.test(\"parseURLForChannelMessageList\", () => {\n",
        "  assertEquals(\n",
        "    parseURLForChannelMessageList(\"/messages/list/ubdeopbbkbgedccgbum7dhsh/3lgawfvbbtx2b/abc\"),\n",
        "    { server:\"at://did:plc:ubdeopbbkbgedccgbum7dhsh/chat.tinychat.core.server/3lgawfvbbtx2b\", channel: \"abc\"}\n",
        "  );\n",
        "});"
      ],
      "outputs": [],
      "metadata": {},
      "execution_count": null
    }
  ],
  "nbformat": 4,
  "nbformat_minor": 2
}